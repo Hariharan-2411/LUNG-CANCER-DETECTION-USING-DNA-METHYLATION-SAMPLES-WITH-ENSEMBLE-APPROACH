{
 "cells": [
  {
   "cell_type": "code",
   "execution_count": 1,
   "metadata": {},
   "outputs": [],
   "source": [
    "import pickle\n",
    "import joblib\n",
    "with open('Dependency/FeatureSelectedData.pkl', 'rb') as f:\n",
    "    X_train_fs, y_train, X_test_fs, y_test  = pickle.load(f)\n",
    "with open('Dependency/lenc.pkl', 'rb') as f:\n",
    "   lenc  = pickle.load(f)"
   ]
  },
  {
   "cell_type": "code",
   "execution_count": 2,
   "metadata": {
    "colab": {
     "base_uri": "https://localhost:8080/"
    },
    "id": "oqighsgzAgkb",
    "outputId": "82cb54eb-b254-4fc0-af73-7c9af0eccf6d"
   },
   "outputs": [
    {
     "name": "stdout",
     "output_type": "stream",
     "text": [
      "Done\n"
     ]
    }
   ],
   "source": [
    "from sklearn.neighbors import KNeighborsClassifier\n",
    "KN = KNeighborsClassifier()\n",
    "from sklearn.linear_model import LogisticRegression\n",
    "LR = LogisticRegression(random_state=0)\n",
    "from sklearn.ensemble import RandomForestClassifier\n",
    "RF = RandomForestClassifier(n_estimators=100, random_state=42)\n",
    "from sklearn.naive_bayes import ComplementNB\n",
    "from sklearn.datasets import make_classification\n",
    "CNB = ComplementNB()\n",
    "from sklearn.model_selection import train_test_split\n",
    "from sklearn.svm import SVC\n",
    "SVM = SVC(kernel='rbf')\n",
    "print(\"Done\")"
   ]
  },
  {
   "cell_type": "code",
   "execution_count": 27,
   "metadata": {
    "colab": {
     "base_uri": "https://localhost:8080/"
    },
    "id": "FnhlPKXq80cm",
    "outputId": "bf8426dd-8fe6-4efe-eca0-472814a0f4d9"
   },
   "outputs": [
    {
     "name": "stdout",
     "output_type": "stream",
     "text": [
      "Looking in indexes: https://pypi.org/simple, https://us-python.pkg.dev/colab-wheels/public/simple/\n",
      "Collecting wittgenstein\n",
      "  Downloading wittgenstein-0.3.4-py3-none-any.whl (110 kB)\n",
      "\u001b[2K     \u001b[90m━━━━━━━━━━━━━━━━━━━━━━━━━━━━━━━━━━━━━━━\u001b[0m \u001b[32m110.6/110.6 kB\u001b[0m \u001b[31m5.8 MB/s\u001b[0m eta \u001b[36m0:00:00\u001b[0m\n",
      "\u001b[?25hRequirement already satisfied: pandas in /usr/local/lib/python3.10/dist-packages (from wittgenstein) (1.5.3)\n",
      "Requirement already satisfied: numpy in /usr/local/lib/python3.10/dist-packages (from wittgenstein) (1.22.4)\n",
      "Requirement already satisfied: python-dateutil>=2.8.1 in /usr/local/lib/python3.10/dist-packages (from pandas->wittgenstein) (2.8.2)\n",
      "Requirement already satisfied: pytz>=2020.1 in /usr/local/lib/python3.10/dist-packages (from pandas->wittgenstein) (2022.7.1)\n",
      "Requirement already satisfied: six>=1.5 in /usr/local/lib/python3.10/dist-packages (from python-dateutil>=2.8.1->pandas->wittgenstein) (1.16.0)\n",
      "Installing collected packages: wittgenstein\n",
      "Successfully installed wittgenstein-0.3.4\n"
     ]
    }
   ],
   "source": [
    " pip install wittgenstein"
   ]
  },
  {
   "cell_type": "code",
   "execution_count": 3,
   "metadata": {},
   "outputs": [],
   "source": [
    "X_train = X_train_fs[['cg14159672']]"
   ]
  },
  {
   "cell_type": "code",
   "execution_count": 4,
   "metadata": {},
   "outputs": [
    {
     "data": {
      "text/plain": [
       "0    24\n",
       "1    22\n",
       "4    16\n",
       "2    10\n",
       "5     1\n",
       "3     1\n",
       "Name: Stage, dtype: int64"
      ]
     },
     "execution_count": 4,
     "metadata": {},
     "output_type": "execute_result"
    }
   ],
   "source": [
    "vc = y_train.value_counts()\n",
    "vc"
   ]
  },
  {
   "cell_type": "code",
   "execution_count": 6,
   "metadata": {},
   "outputs": [
    {
     "data": {
      "text/plain": [
       "Stage IA      24\n",
       "Stage IB      22\n",
       "Stage IIIA    16\n",
       "Stage IIA     10\n",
       "Stage IIB      1\n",
       "Stage IV       1\n",
       "dtype: int64"
      ]
     },
     "execution_count": 6,
     "metadata": {},
     "output_type": "execute_result"
    }
   ],
   "source": [
    "import pandas as pd\n",
    "\n",
    "from sklearn.preprocessing import LabelEncoder\n",
    "\n",
    "decoded_labels = lenc.inverse_transform(y_train)\n",
    "\n",
    "decoded_labels = pd.DataFrame(decoded_labels)\n",
    "\n",
    "vc = decoded_labels.value_counts()\n",
    "\n",
    "vc"
   ]
  },
  {
   "cell_type": "code",
   "execution_count": 7,
   "metadata": {
    "colab": {
     "base_uri": "https://localhost:8080/"
    },
    "id": "8BJ2NB06qrYi",
    "outputId": "6eb10bf0-c433-4f34-fc9c-13b5612d798b"
   },
   "outputs": [],
   "source": [
    "\n",
    "import numpy as np\n",
    "\n",
    "Stage_I = X_train_fs[['cg14159672', 'cg23244913']]\n",
    "Stage_I[\"Stage\"] = y_train\n",
    "Stage_I[\"Stage\"] = np.where((Stage_I[\"Stage\"] == 0) | (Stage_I[\"Stage\"] == 1), 1, 0)\n",
    "\n",
    "Stage_I_t = X_test_fs[['cg14159672', 'cg23244913']]\n",
    "Stage_I_t[\"Stage\"] = y_test\n",
    "Stage_I_t[\"Stage\"] = np.where((Stage_I_t[\"Stage\"] == 0) | (Stage_I_t[\"Stage\"] == 1), 1, 0)\n",
    "\n"
   ]
  },
  {
   "cell_type": "code",
   "execution_count": 8,
   "metadata": {},
   "outputs": [],
   "source": [
    "\n",
    "import numpy as np\n",
    "\n",
    "Stage_II = X_train_fs[['cg14159672', 'cg23244913']]\n",
    "Stage_II[\"Stage\"] = y_train\n",
    "Stage_II[\"Stage\"] = np.where((Stage_II[\"Stage\"] == 2) | (Stage_II[\"Stage\"] == 5), 1, 0)\n",
    "\n",
    "Stage_II_t = X_test_fs[['cg14159672', 'cg23244913']]\n",
    "Stage_II_t[\"Stage\"] = y_test\n",
    "Stage_II_t[\"Stage\"] = np.where((Stage_II_t[\"Stage\"] == 2) | (Stage_II_t[\"Stage\"] == 5), 1, 0)"
   ]
  },
  {
   "cell_type": "code",
   "execution_count": 9,
   "metadata": {},
   "outputs": [],
   "source": [
    "\n",
    "import numpy as np\n",
    "\n",
    "Stage_III = X_train_fs[['cg14159672', 'cg23244913']]\n",
    "Stage_III[\"Stage\"] = y_train\n",
    "Stage_III[\"Stage\"] = np.where((Stage_III[\"Stage\"] == 4) , 1, 0)\n",
    "\n",
    "Stage_III_t = X_test_fs[['cg14159672', 'cg23244913']]\n",
    "Stage_III_t[\"Stage\"] = y_test\n",
    "Stage_III_t[\"Stage\"] = np.where((Stage_III_t[\"Stage\"] == 4) , 1, 0)"
   ]
  },
  {
   "cell_type": "code",
   "execution_count": 11,
   "metadata": {},
   "outputs": [
    {
     "name": "stdout",
     "output_type": "stream",
     "text": [
      "ACCURACY : 0.625\n",
      "ACCURACY CHECK : 0.625\n"
     ]
    }
   ],
   "source": [
    "import wittgenstein as lw\n",
    "\n",
    "models = []\n",
    "accuracies = []\n",
    "\n",
    "i = 0\n",
    "\n",
    "while (i<=500):\n",
    "    rc_Stage_I_as = lw.RIPPER()\n",
    "    rc_Stage_I_as.fit(Stage_I.iloc[:,:-1], Stage_I.iloc[:,-1])\n",
    "    accuracy = rc_Stage_I_as.score(Stage_I_t.iloc[:,:-1], Stage_I_t.iloc[:,-1])\n",
    "    models.append(rc_Stage_I_as)\n",
    "    accuracies.append(accuracy)\n",
    "    i = i + 1\n",
    "\n",
    "final_accuracy = max(accuracies)\n",
    "max_index = max(enumerate(accuracies), key=lambda x: x[1])[0]\n",
    "\n",
    "ripper_Stage_I = models[max_index]\n",
    "\n",
    "print(\"ACCURACY :\", final_accuracy)\n",
    "print(\"ACCURACY CHECK :\", ripper_Stage_I.score(Stage_I_t.iloc[:,:-1], Stage_I_t.iloc[:,-1]))"
   ]
  },
  {
   "cell_type": "code",
   "execution_count": 12,
   "metadata": {},
   "outputs": [
    {
     "name": "stdout",
     "output_type": "stream",
     "text": [
      "0.525\n",
      "0.525\n",
      "0.425\n",
      "0.45\n",
      "0.475\n",
      "Done\n"
     ]
    }
   ],
   "source": [
    "KN.fit(Stage_I.iloc[:,:-1], Stage_I.iloc[:,-1])\n",
    "LR.fit(Stage_I.iloc[:,:-1], Stage_I.iloc[:,-1])\n",
    "RF.fit(Stage_I.iloc[:,:-1], Stage_I.iloc[:,-1])\n",
    "CNB.fit(Stage_I.iloc[:,:-1], Stage_I.iloc[:,-1])\n",
    "SVM.fit(Stage_I.iloc[:,:-1], Stage_I.iloc[:,-1])\n",
    "                                \n",
    "print(KN.score(Stage_I_t.iloc[:,:-1], Stage_I_t.iloc[:,-1]))\n",
    "\n",
    "print(LR.score(Stage_I_t.iloc[:,:-1], Stage_I_t.iloc[:,-1]))\n",
    "\n",
    "print(RF.score(Stage_I_t.iloc[:,:-1], Stage_I_t.iloc[:,-1]))\n",
    "\n",
    "print(CNB.score(Stage_I_t.iloc[:,:-1], Stage_I_t.iloc[:,-1]))\n",
    "\n",
    "print(SVM.score(Stage_I_t.iloc[:,:-1], Stage_I_t.iloc[:,-1]))\n",
    "\n",
    "print(\"Done\")"
   ]
  },
  {
   "cell_type": "code",
   "execution_count": 13,
   "metadata": {},
   "outputs": [
    {
     "name": "stdout",
     "output_type": "stream",
     "text": [
      "ACCURACY : 0.825\n",
      "ACCURACY CHECK : 0.825\n"
     ]
    }
   ],
   "source": [
    "import wittgenstein as lw\n",
    "\n",
    "models = []\n",
    "accuracies = []\n",
    "\n",
    "i = 0\n",
    "\n",
    "while (i<=500):\n",
    "    rc_Stage_II_as = lw.RIPPER()\n",
    "    rc_Stage_II_as.fit(Stage_II.iloc[:,:-1], Stage_II.iloc[:,-1])\n",
    "    accuracy = rc_Stage_II_as.score(Stage_II_t.iloc[:,:-1], Stage_II_t.iloc[:,-1])\n",
    "    models.append(rc_Stage_II_as)\n",
    "    accuracies.append(accuracy)\n",
    "    i = i + 1\n",
    "\n",
    "final_accuracy = max(accuracies)\n",
    "max_index = max(enumerate(accuracies), key=lambda x: x[1])[0]\n",
    "\n",
    "ripper_Stage_II = models[max_index]\n",
    "\n",
    "print(\"ACCURACY :\", final_accuracy)\n",
    "print(\"ACCURACY CHECK :\", ripper_Stage_II.score(Stage_II_t.iloc[:,:-1], Stage_II_t.iloc[:,-1]))"
   ]
  },
  {
   "cell_type": "code",
   "execution_count": 14,
   "metadata": {},
   "outputs": [
    {
     "name": "stdout",
     "output_type": "stream",
     "text": [
      "0.825\n",
      "0.825\n",
      "0.725\n",
      "0.525\n",
      "0.825\n",
      "Done\n"
     ]
    }
   ],
   "source": [
    "KN.fit(Stage_II.iloc[:,:-1], Stage_II.iloc[:,-1])\n",
    "LR.fit(Stage_II.iloc[:,:-1], Stage_II.iloc[:,-1])\n",
    "RF.fit(Stage_II.iloc[:,:-1], Stage_II.iloc[:,-1])\n",
    "CNB.fit(Stage_II.iloc[:,:-1], Stage_II.iloc[:,-1])\n",
    "SVM.fit(Stage_II.iloc[:,:-1], Stage_II.iloc[:,-1])\n",
    "                                \n",
    "print(KN.score(Stage_II_t.iloc[:,:-1], Stage_II_t.iloc[:,-1]))\n",
    "\n",
    "print(LR.score(Stage_II_t.iloc[:,:-1], Stage_II_t.iloc[:,-1]))\n",
    "\n",
    "print(RF.score(Stage_II_t.iloc[:,:-1], Stage_II_t.iloc[:,-1]))\n",
    "\n",
    "print(CNB.score(Stage_II_t.iloc[:,:-1], Stage_II_t.iloc[:,-1]))\n",
    "\n",
    "print(SVM.score(Stage_II_t.iloc[:,:-1], Stage_II_t.iloc[:,-1]))\n",
    "\n",
    "print(\"Done\")"
   ]
  },
  {
   "cell_type": "code",
   "execution_count": 15,
   "metadata": {},
   "outputs": [
    {
     "name": "stdout",
     "output_type": "stream",
     "text": [
      "ACCURACY : 0.85\n",
      "ACCURACY CHECK : 0.85\n"
     ]
    }
   ],
   "source": [
    "import wittgenstein as lw\n",
    "\n",
    "models = []\n",
    "accuracies = []\n",
    "\n",
    "i = 0\n",
    "\n",
    "while (i<=500):\n",
    "    rc_Stage_III_as = lw.RIPPER()\n",
    "    rc_Stage_III_as.fit(Stage_III.iloc[:,:-1], Stage_III.iloc[:,-1])\n",
    "    accuracy = rc_Stage_III_as.score(Stage_III_t.iloc[:,:-1], Stage_III_t.iloc[:,-1])\n",
    "    models.append(rc_Stage_III_as)\n",
    "    accuracies.append(accuracy)\n",
    "    i = i + 1\n",
    "\n",
    "final_accuracy = max(accuracies)\n",
    "max_index = max(enumerate(accuracies), key=lambda x: x[1])[0]\n",
    "\n",
    "ripper_Stage_III = models[max_index]\n",
    "\n",
    "print(\"ACCURACY :\", final_accuracy)\n",
    "print(\"ACCURACY CHECK :\", ripper_Stage_III.score(Stage_III_t.iloc[:,:-1], Stage_III_t.iloc[:,-1]))"
   ]
  },
  {
   "cell_type": "code",
   "execution_count": 16,
   "metadata": {},
   "outputs": [
    {
     "name": "stdout",
     "output_type": "stream",
     "text": [
      "0.675\n",
      "0.8\n",
      "0.725\n",
      "0.5\n",
      "0.8\n",
      "Done\n"
     ]
    }
   ],
   "source": [
    "KN.fit(Stage_III.iloc[:,:-1], Stage_III.iloc[:,-1])\n",
    "LR.fit(Stage_III.iloc[:,:-1], Stage_III.iloc[:,-1])\n",
    "RF.fit(Stage_III.iloc[:,:-1], Stage_III.iloc[:,-1])\n",
    "CNB.fit(Stage_III.iloc[:,:-1], Stage_III.iloc[:,-1])\n",
    "SVM.fit(Stage_III.iloc[:,:-1], Stage_III.iloc[:,-1])\n",
    "                                \n",
    "print(KN.score(Stage_III_t.iloc[:,:-1], Stage_III_t.iloc[:,-1]))\n",
    "\n",
    "print(LR.score(Stage_III_t.iloc[:,:-1], Stage_III_t.iloc[:,-1]))\n",
    "\n",
    "print(RF.score(Stage_III_t.iloc[:,:-1], Stage_III_t.iloc[:,-1]))\n",
    "\n",
    "print(CNB.score(Stage_III_t.iloc[:,:-1], Stage_III_t.iloc[:,-1]))\n",
    "\n",
    "print(SVM.score(Stage_III_t.iloc[:,:-1], Stage_III_t.iloc[:,-1]))\n",
    "\n",
    "print(\"Done\")"
   ]
  },
  {
   "cell_type": "code",
   "execution_count": null,
   "metadata": {},
   "outputs": [],
   "source": [
    "joblib.dump(ripper_Stage_I, 'R_CLASS_STAGE1_clf.joblib')\n",
    "joblib.dump(ripper_Stage_II, 'R_CLASS_STAGE2_clf.joblib')\n",
    "joblib.dump(ripper_Stage_III, 'R_CLASS_STAGE3_clf.joblib')\n",
    "\n",
    "print(\"Done\")"
   ]
  },
  {
   "cell_type": "code",
   "execution_count": 17,
   "metadata": {},
   "outputs": [
    {
     "name": "stderr",
     "output_type": "stream",
     "text": [
      "08-May-2023 19:41:09 DEBUG utils - Directory /bin/LungCancer already exists. Skipping.\n",
      "08-May-2023 19:41:09 INFO GEOparse - File already exist: using local version.\n",
      "08-May-2023 19:41:09 INFO GEOparse - Parsing /bin/LungCancer\\GSE32861_family.soft.gz: \n",
      "08-May-2023 19:41:09 DEBUG GEOparse - DATABASE: GeoMiame\n",
      "08-May-2023 19:41:09 DEBUG GEOparse - SERIES: GSE32861\n",
      "08-May-2023 19:41:09 DEBUG GEOparse - PLATFORM: GPL8490\n",
      "08-May-2023 19:41:11 DEBUG GEOparse - SAMPLE: GSM813174\n",
      "08-May-2023 19:41:11 DEBUG GEOparse - SAMPLE: GSM813175\n",
      "08-May-2023 19:41:12 DEBUG GEOparse - SAMPLE: GSM813176\n",
      "08-May-2023 19:41:12 DEBUG GEOparse - SAMPLE: GSM813177\n",
      "08-May-2023 19:41:12 DEBUG GEOparse - SAMPLE: GSM813178\n",
      "08-May-2023 19:41:12 DEBUG GEOparse - SAMPLE: GSM813179\n",
      "08-May-2023 19:41:12 DEBUG GEOparse - SAMPLE: GSM813180\n",
      "08-May-2023 19:41:12 DEBUG GEOparse - SAMPLE: GSM813181\n",
      "08-May-2023 19:41:13 DEBUG GEOparse - SAMPLE: GSM813182\n",
      "08-May-2023 19:41:13 DEBUG GEOparse - SAMPLE: GSM813183\n",
      "08-May-2023 19:41:13 DEBUG GEOparse - SAMPLE: GSM813184\n",
      "08-May-2023 19:41:13 DEBUG GEOparse - SAMPLE: GSM813185\n",
      "08-May-2023 19:41:13 DEBUG GEOparse - SAMPLE: GSM813186\n",
      "08-May-2023 19:41:14 DEBUG GEOparse - SAMPLE: GSM813187\n",
      "08-May-2023 19:41:14 DEBUG GEOparse - SAMPLE: GSM813188\n",
      "08-May-2023 19:41:14 DEBUG GEOparse - SAMPLE: GSM813189\n",
      "08-May-2023 19:41:14 DEBUG GEOparse - SAMPLE: GSM813190\n",
      "08-May-2023 19:41:14 DEBUG GEOparse - SAMPLE: GSM813191\n",
      "08-May-2023 19:41:14 DEBUG GEOparse - SAMPLE: GSM813192\n",
      "08-May-2023 19:41:14 DEBUG GEOparse - SAMPLE: GSM813193\n",
      "08-May-2023 19:41:15 DEBUG GEOparse - SAMPLE: GSM813194\n",
      "08-May-2023 19:41:15 DEBUG GEOparse - SAMPLE: GSM813195\n",
      "08-May-2023 19:41:15 DEBUG GEOparse - SAMPLE: GSM813196\n",
      "08-May-2023 19:41:15 DEBUG GEOparse - SAMPLE: GSM813197\n",
      "08-May-2023 19:41:15 DEBUG GEOparse - SAMPLE: GSM813198\n",
      "08-May-2023 19:41:16 DEBUG GEOparse - SAMPLE: GSM813199\n",
      "08-May-2023 19:41:16 DEBUG GEOparse - SAMPLE: GSM813200\n",
      "08-May-2023 19:41:16 DEBUG GEOparse - SAMPLE: GSM813201\n",
      "08-May-2023 19:41:16 DEBUG GEOparse - SAMPLE: GSM813202\n",
      "08-May-2023 19:41:16 DEBUG GEOparse - SAMPLE: GSM813203\n",
      "08-May-2023 19:41:16 DEBUG GEOparse - SAMPLE: GSM813204\n",
      "08-May-2023 19:41:16 DEBUG GEOparse - SAMPLE: GSM813205\n",
      "08-May-2023 19:41:17 DEBUG GEOparse - SAMPLE: GSM813206\n",
      "08-May-2023 19:41:17 DEBUG GEOparse - SAMPLE: GSM813207\n",
      "08-May-2023 19:41:17 DEBUG GEOparse - SAMPLE: GSM813208\n",
      "08-May-2023 19:41:17 DEBUG GEOparse - SAMPLE: GSM813209\n",
      "08-May-2023 19:41:17 DEBUG GEOparse - SAMPLE: GSM813210\n",
      "08-May-2023 19:41:17 DEBUG GEOparse - SAMPLE: GSM813211\n",
      "08-May-2023 19:41:17 DEBUG GEOparse - SAMPLE: GSM813212\n",
      "08-May-2023 19:41:18 DEBUG GEOparse - SAMPLE: GSM813213\n",
      "08-May-2023 19:41:18 DEBUG GEOparse - SAMPLE: GSM813214\n",
      "08-May-2023 19:41:18 DEBUG GEOparse - SAMPLE: GSM813215\n",
      "08-May-2023 19:41:18 DEBUG GEOparse - SAMPLE: GSM813216\n",
      "08-May-2023 19:41:18 DEBUG GEOparse - SAMPLE: GSM813217\n",
      "08-May-2023 19:41:18 DEBUG GEOparse - SAMPLE: GSM813218\n",
      "08-May-2023 19:41:19 DEBUG GEOparse - SAMPLE: GSM813219\n",
      "08-May-2023 19:41:19 DEBUG GEOparse - SAMPLE: GSM813220\n",
      "08-May-2023 19:41:19 DEBUG GEOparse - SAMPLE: GSM813221\n",
      "08-May-2023 19:41:19 DEBUG GEOparse - SAMPLE: GSM813222\n",
      "08-May-2023 19:41:19 DEBUG GEOparse - SAMPLE: GSM813223\n",
      "08-May-2023 19:41:19 DEBUG GEOparse - SAMPLE: GSM813224\n",
      "08-May-2023 19:41:19 DEBUG GEOparse - SAMPLE: GSM813225\n",
      "08-May-2023 19:41:19 DEBUG GEOparse - SAMPLE: GSM813226\n",
      "08-May-2023 19:41:19 DEBUG GEOparse - SAMPLE: GSM813227\n",
      "08-May-2023 19:41:20 DEBUG GEOparse - SAMPLE: GSM813228\n",
      "08-May-2023 19:41:20 DEBUG GEOparse - SAMPLE: GSM813229\n",
      "08-May-2023 19:41:20 DEBUG GEOparse - SAMPLE: GSM813230\n",
      "08-May-2023 19:41:20 DEBUG GEOparse - SAMPLE: GSM813231\n",
      "08-May-2023 19:41:20 DEBUG GEOparse - SAMPLE: GSM813232\n",
      "08-May-2023 19:41:20 DEBUG GEOparse - SAMPLE: GSM813233\n",
      "08-May-2023 19:41:21 DEBUG GEOparse - SAMPLE: GSM813234\n",
      "08-May-2023 19:41:21 DEBUG GEOparse - SAMPLE: GSM813235\n",
      "08-May-2023 19:41:21 DEBUG GEOparse - SAMPLE: GSM813236\n",
      "08-May-2023 19:41:21 DEBUG GEOparse - SAMPLE: GSM813237\n",
      "08-May-2023 19:41:21 DEBUG GEOparse - SAMPLE: GSM813238\n",
      "08-May-2023 19:41:21 DEBUG GEOparse - SAMPLE: GSM813239\n",
      "08-May-2023 19:41:21 DEBUG GEOparse - SAMPLE: GSM813240\n",
      "08-May-2023 19:41:21 DEBUG GEOparse - SAMPLE: GSM813241\n",
      "08-May-2023 19:41:22 DEBUG GEOparse - SAMPLE: GSM813242\n",
      "08-May-2023 19:41:22 DEBUG GEOparse - SAMPLE: GSM813243\n",
      "08-May-2023 19:41:22 DEBUG GEOparse - SAMPLE: GSM813244\n",
      "08-May-2023 19:41:22 DEBUG GEOparse - SAMPLE: GSM813245\n",
      "08-May-2023 19:41:22 DEBUG GEOparse - SAMPLE: GSM813246\n",
      "08-May-2023 19:41:22 DEBUG GEOparse - SAMPLE: GSM813247\n",
      "08-May-2023 19:41:22 DEBUG GEOparse - SAMPLE: GSM813248\n",
      "08-May-2023 19:41:22 DEBUG GEOparse - SAMPLE: GSM813249\n",
      "08-May-2023 19:41:23 DEBUG GEOparse - SAMPLE: GSM813250\n",
      "08-May-2023 19:41:23 DEBUG GEOparse - SAMPLE: GSM813251\n",
      "08-May-2023 19:41:23 DEBUG GEOparse - SAMPLE: GSM813252\n",
      "08-May-2023 19:41:23 DEBUG GEOparse - SAMPLE: GSM813253\n",
      "08-May-2023 19:41:23 DEBUG GEOparse - SAMPLE: GSM813254\n",
      "08-May-2023 19:41:24 DEBUG GEOparse - SAMPLE: GSM813255\n",
      "08-May-2023 19:41:24 DEBUG GEOparse - SAMPLE: GSM813256\n",
      "08-May-2023 19:41:24 DEBUG GEOparse - SAMPLE: GSM813257\n",
      "08-May-2023 19:41:24 DEBUG GEOparse - SAMPLE: GSM813258\n",
      "08-May-2023 19:41:24 DEBUG GEOparse - SAMPLE: GSM813259\n",
      "08-May-2023 19:41:24 DEBUG GEOparse - SAMPLE: GSM813260\n",
      "08-May-2023 19:41:25 DEBUG GEOparse - SAMPLE: GSM813261\n",
      "08-May-2023 19:41:25 DEBUG GEOparse - SAMPLE: GSM813262\n",
      "08-May-2023 19:41:25 DEBUG GEOparse - SAMPLE: GSM813263\n",
      "08-May-2023 19:41:25 DEBUG GEOparse - SAMPLE: GSM813264\n",
      "08-May-2023 19:41:25 DEBUG GEOparse - SAMPLE: GSM813265\n",
      "08-May-2023 19:41:26 DEBUG GEOparse - SAMPLE: GSM813266\n",
      "08-May-2023 19:41:26 DEBUG GEOparse - SAMPLE: GSM813267\n",
      "08-May-2023 19:41:26 DEBUG GEOparse - SAMPLE: GSM813268\n",
      "08-May-2023 19:41:26 DEBUG GEOparse - SAMPLE: GSM813269\n",
      "08-May-2023 19:41:26 DEBUG GEOparse - SAMPLE: GSM813270\n",
      "08-May-2023 19:41:26 DEBUG GEOparse - SAMPLE: GSM813271\n",
      "08-May-2023 19:41:27 DEBUG GEOparse - SAMPLE: GSM813272\n",
      "08-May-2023 19:41:27 DEBUG GEOparse - SAMPLE: GSM813273\n",
      "08-May-2023 19:41:27 DEBUG GEOparse - SAMPLE: GSM813274\n",
      "08-May-2023 19:41:27 DEBUG GEOparse - SAMPLE: GSM813275\n",
      "08-May-2023 19:41:27 DEBUG GEOparse - SAMPLE: GSM813276\n",
      "08-May-2023 19:41:28 DEBUG GEOparse - SAMPLE: GSM813277\n",
      "08-May-2023 19:41:28 DEBUG GEOparse - SAMPLE: GSM813278\n",
      "08-May-2023 19:41:28 DEBUG GEOparse - SAMPLE: GSM813279\n",
      "08-May-2023 19:41:28 DEBUG GEOparse - SAMPLE: GSM813280\n",
      "08-May-2023 19:41:29 DEBUG GEOparse - SAMPLE: GSM813281\n",
      "08-May-2023 19:41:29 DEBUG GEOparse - SAMPLE: GSM813282\n",
      "08-May-2023 19:41:30 DEBUG GEOparse - SAMPLE: GSM813283\n",
      "08-May-2023 19:41:30 DEBUG GEOparse - SAMPLE: GSM813284\n",
      "08-May-2023 19:41:32 DEBUG GEOparse - SAMPLE: GSM813285\n",
      "08-May-2023 19:41:32 DEBUG GEOparse - SAMPLE: GSM813286\n",
      "08-May-2023 19:41:33 DEBUG GEOparse - SAMPLE: GSM813287\n",
      "08-May-2023 19:41:33 DEBUG GEOparse - SAMPLE: GSM813288\n",
      "08-May-2023 19:41:33 DEBUG GEOparse - SAMPLE: GSM813289\n",
      "08-May-2023 19:41:34 DEBUG GEOparse - SAMPLE: GSM813290\n",
      "08-May-2023 19:41:34 DEBUG GEOparse - SAMPLE: GSM813291\n"
     ]
    }
   ],
   "source": [
    "import GEOparse\n",
    "gse = GEOparse.get_GEO(geo=\"GSE32861\", destdir=\"/bin/LungCancer\")\n"
   ]
  }
 ],
 "metadata": {
  "colab": {
   "collapsed_sections": [
    "CqGAUn4Wraq3"
   ],
   "provenance": []
  },
  "kernelspec": {
   "display_name": "Python 3 (ipykernel)",
   "language": "python",
   "name": "python3"
  },
  "language_info": {
   "codemirror_mode": {
    "name": "ipython",
    "version": 3
   },
   "file_extension": ".py",
   "mimetype": "text/x-python",
   "name": "python",
   "nbconvert_exporter": "python",
   "pygments_lexer": "ipython3",
   "version": "3.9.13"
  }
 },
 "nbformat": 4,
 "nbformat_minor": 1
}
