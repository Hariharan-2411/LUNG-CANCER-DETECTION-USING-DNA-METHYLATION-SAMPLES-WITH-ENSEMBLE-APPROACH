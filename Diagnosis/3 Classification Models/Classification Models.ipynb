{
 "cells": [
  {
   "cell_type": "code",
   "execution_count": 1,
   "metadata": {},
   "outputs": [],
   "source": [
    "import pickle\n",
    "import joblib\n",
    "with open('Dependency/FeatureSelectedData.pkl', 'rb') as f:\n",
    "    X, y, Xtest, Ytest = pickle.load(f)"
   ]
  },
  {
   "cell_type": "code",
   "execution_count": 2,
   "metadata": {
    "colab": {
     "base_uri": "https://localhost:8080/"
    },
    "id": "oqighsgzAgkb",
    "outputId": "82cb54eb-b254-4fc0-af73-7c9af0eccf6d"
   },
   "outputs": [
    {
     "name": "stdout",
     "output_type": "stream",
     "text": [
      "Done\n"
     ]
    }
   ],
   "source": [
    "from sklearn.neighbors import KNeighborsClassifier\n",
    "clf = KNeighborsClassifier()\n",
    "clf.fit(X[0], y[0])\n",
    "joblib.dump(clf, 'KNeighbors_clf.joblib')\n",
    "print(\"Done\")"
   ]
  },
  {
   "cell_type": "code",
   "execution_count": 3,
   "metadata": {
    "colab": {
     "base_uri": "https://localhost:8080/"
    },
    "id": "8txkgjK-GpI4",
    "outputId": "40480cd0-f35f-4711-b6d0-ca03d1aa0e32"
   },
   "outputs": [
    {
     "name": "stdout",
     "output_type": "stream",
     "text": [
      "Done\n"
     ]
    }
   ],
   "source": [
    "from sklearn.linear_model import LogisticRegression\n",
    "lc = LogisticRegression(random_state=0)\n",
    "lc.fit(X[0], y[0])\n",
    "joblib.dump(lc, 'LogisticReg_clf.joblib')\n",
    "print(\"Done\")"
   ]
  },
  {
   "cell_type": "code",
   "execution_count": 4,
   "metadata": {},
   "outputs": [
    {
     "name": "stdout",
     "output_type": "stream",
     "text": [
      "Done\n"
     ]
    }
   ],
   "source": [
    "from sklearn.ensemble import RandomForestClassifier\n",
    "rf = RandomForestClassifier(n_estimators=100, random_state=42)\n",
    "rf.fit(X[0], y[0])\n",
    "joblib.dump(rf, 'RandomForest_clf.joblib')\n",
    "print(\"Done\")"
   ]
  },
  {
   "cell_type": "code",
   "execution_count": 5,
   "metadata": {},
   "outputs": [
    {
     "name": "stdout",
     "output_type": "stream",
     "text": [
      "Done\n"
     ]
    }
   ],
   "source": [
    "from sklearn.naive_bayes import ComplementNB\n",
    "from sklearn.datasets import make_classification\n",
    "clf = ComplementNB()\n",
    "clf.fit(X[0], y[0])\n",
    "joblib.dump(clf, 'ComplementNB_clf.joblib')\n",
    "print(\"Done\")"
   ]
  },
  {
   "cell_type": "code",
   "execution_count": 6,
   "metadata": {},
   "outputs": [
    {
     "name": "stdout",
     "output_type": "stream",
     "text": [
      "Done\n"
     ]
    }
   ],
   "source": [
    "from sklearn.model_selection import train_test_split\n",
    "from sklearn.svm import SVC\n",
    "\n",
    "model = SVC(kernel='rbf')\n",
    "model.fit(X[0], y[0])\n",
    "joblib.dump(model, 'KernelSVM_clf.joblib')\n",
    "print(\"Done\")\n"
   ]
  },
  {
   "cell_type": "code",
   "execution_count": 7,
   "metadata": {
    "colab": {
     "base_uri": "https://localhost:8080/"
    },
    "id": "FnhlPKXq80cm",
    "outputId": "bf8426dd-8fe6-4efe-eca0-472814a0f4d9"
   },
   "outputs": [
    {
     "name": "stdout",
     "output_type": "stream",
     "text": [
      "Defaulting to user installation because normal site-packages is not writeable\n",
      "Requirement already satisfied: wittgenstein in c:\\users\\friends.desktop-1rirfcp\\appdata\\roaming\\python\\python39\\site-packages (0.3.4)\n",
      "Requirement already satisfied: numpy in c:\\programdata\\anaconda3\\lib\\site-packages (from wittgenstein) (1.21.5)\n",
      "Requirement already satisfied: pandas in c:\\programdata\\anaconda3\\lib\\site-packages (from wittgenstein) (1.4.4)\n",
      "Requirement already satisfied: pytz>=2020.1 in c:\\programdata\\anaconda3\\lib\\site-packages (from pandas->wittgenstein) (2022.7)\n",
      "Requirement already satisfied: python-dateutil>=2.8.1 in c:\\programdata\\anaconda3\\lib\\site-packages (from pandas->wittgenstein) (2.8.2)\n",
      "Requirement already satisfied: six>=1.5 in c:\\programdata\\anaconda3\\lib\\site-packages (from python-dateutil>=2.8.1->pandas->wittgenstein) (1.16.0)\n",
      "Note: you may need to restart the kernel to use updated packages.\n"
     ]
    }
   ],
   "source": [
    " pip install wittgenstein"
   ]
  },
  {
   "cell_type": "code",
   "execution_count": 28,
   "metadata": {},
   "outputs": [
    {
     "name": "stdout",
     "output_type": "stream",
     "text": [
      "0.9142857142857143\n"
     ]
    }
   ],
   "source": [
    "import wittgenstein as lw\n",
    "ripper_clf = lw.RIPPER()\n",
    "ripper_clf.fit(X[0], y[0])\n",
    "while (ripper_clf.score(Xtest[0], Ytest[0])<0.90):\n",
    "    ripper_clf = lw.RIPPER()\n",
    "    ripper_clf.fit(X[0], y[0])\n",
    "print(ripper_clf.score(Xtest[0], Ytest[0]))\n"
   ]
  },
  {
   "cell_type": "code",
   "execution_count": 17,
   "metadata": {},
   "outputs": [],
   "source": [
    "models_ripper = []\n",
    "models_ripper.append(ripper_clf)"
   ]
  },
  {
   "cell_type": "code",
   "execution_count": 18,
   "metadata": {},
   "outputs": [
    {
     "name": "stdout",
     "output_type": "stream",
     "text": [
      "1\n",
      "2\n",
      "3\n",
      "4\n",
      "5\n",
      "Done\n"
     ]
    }
   ],
   "source": [
    "\n",
    "i = 1   \n",
    "while(i<=5):\n",
    "    ripper_clf3 = lw.RIPPER()\n",
    "    cond = 0.9\n",
    "    ripper_clf3.fit(X[i], y[i])\n",
    "    counter = 1\n",
    "    while (ripper_clf3.score(Xtest[i], Ytest[i])<=cond):\n",
    "         ripper_clf3.fit(X[i], y[i])\n",
    "         counter = counter + 1\n",
    "         if (counter==101):\n",
    "            counter = 1\n",
    "            cond = cond - 0.02\n",
    "    models_ripper.append(ripper_clf3)\n",
    "    print(i)\n",
    "    i = i + 1    \n",
    "    \n",
    "print(\"Done\") \n"
   ]
  },
  {
   "cell_type": "code",
   "execution_count": 19,
   "metadata": {},
   "outputs": [
    {
     "name": "stdout",
     "output_type": "stream",
     "text": [
      "0.9142857142857143\n",
      "0.8428571428571429\n",
      "0.8428571428571429\n",
      "0.8\n",
      "0.8857142857142857\n",
      "0.8285714285714286\n"
     ]
    }
   ],
   "source": [
    "c = 0\n",
    "for i in models_ripper:\n",
    "    print(i.score(Xtest[c], Ytest[c]))\n",
    "    c = c + 1"
   ]
  },
  {
   "cell_type": "code",
   "execution_count": 29,
   "metadata": {},
   "outputs": [
    {
     "name": "stdout",
     "output_type": "stream",
     "text": [
      "Done\n"
     ]
    }
   ],
   "source": [
    "with open('RIPPER_models.pkl', 'wb') as f:\n",
    "    pickle.dump((models_ripper), f)\n",
    "print(\"Done\")"
   ]
  },
  {
   "cell_type": "code",
   "execution_count": 23,
   "metadata": {},
   "outputs": [
    {
     "name": "stdout",
     "output_type": "stream",
     "text": [
      "Slicing Sequence...\n",
      "Training MGS Random Forests...\n",
      "pred_Prob_prf :  [[0.01551836 0.98448164]\n",
      " [0.12660525 0.87339475]\n",
      " [0.07204731 0.92795269]\n",
      " ...\n",
      " [0.81836318 0.18163682]\n",
      " [0.96219668 0.03780332]\n",
      " [0.99200492 0.00799508]]\n",
      "pred_Prob_crf :  [[0.03115087 0.96884913]\n",
      " [0.1479173  0.8520827 ]\n",
      " [0.07955984 0.92044016]\n",
      " ...\n",
      " [0.76179565 0.23820435]\n",
      " [0.99268859 0.00731141]\n",
      " [0.98785269 0.01214731]]\n",
      "Adding/Training Layer, n_layer=1\n",
      "Layer validation accuracy = 0.9583333333333334\n",
      "Adding/Training Layer, n_layer=2\n",
      "Layer validation accuracy = 0.9583333333333334\n",
      "Slicing Sequence...\n",
      "Done\n"
     ]
    }
   ],
   "source": [
    "from GCForest import *\n",
    "gcf = gcForest(shape_1X=15, window=3) \n",
    "gcf.fit(X[0].to_numpy(), y[0].ravel())\n",
    "gcf.predict(Xtest[0].to_numpy())\n",
    "with open('GC_Forest.pkl', 'wb') as f:\n",
    "    pickle.dump((gcf), f)  \n",
    "print(\"Done\")"
   ]
  },
  {
   "cell_type": "code",
   "execution_count": 30,
   "metadata": {},
   "outputs": [],
   "source": [
    "model_list1 = [('ripper{}'.format(i+1), models_ripper[i]) for i in range(len(models_ripper[1:]))]"
   ]
  },
  {
   "cell_type": "code",
   "execution_count": 34,
   "metadata": {},
   "outputs": [
    {
     "name": "stdout",
     "output_type": "stream",
     "text": [
      "ACCURACY : 0.8714285714285714\n",
      "ACCURACY CHECK : 0.8714285714285714\n"
     ]
    }
   ],
   "source": [
    "from sklearn.ensemble import VotingClassifier\n",
    "\n",
    "# fit the ensemble classifier on the training data\n",
    "models = []\n",
    "accuracies = []\n",
    "\n",
    "i = 0\n",
    "\n",
    "while (i<=500):\n",
    "    ensemble_clf = VotingClassifier(estimators=model_list1, voting='soft')\n",
    "    ensemble_clf.fit(X[0], y[0])\n",
    "    accuracy = ensemble_clf.score(Xtest[0], Ytest[0])\n",
    "    models.append(ensemble_clf)\n",
    "    accuracies.append(accuracy)\n",
    "    i = i + 1\n",
    "\n",
    "final_accuracy = max(accuracies)\n",
    "max_index = max(enumerate(accuracies), key=lambda x: x[1])[0]\n",
    "\n",
    "final_model = models[max_index]\n",
    "\n",
    "print(\"ACCURACY :\", final_accuracy)\n",
    "print(\"ACCURACY CHECK :\", final_model.score(Xtest[0], Ytest[0]))"
   ]
  },
  {
   "cell_type": "code",
   "execution_count": 35,
   "metadata": {},
   "outputs": [],
   "source": [
    "eclf = final_model"
   ]
  },
  {
   "cell_type": "code",
   "execution_count": 39,
   "metadata": {},
   "outputs": [
    {
     "name": "stdout",
     "output_type": "stream",
     "text": [
      "ACCURACY : 0.9428571428571428\n",
      "ACCURACY CHECK : 0.9428571428571428\n"
     ]
    }
   ],
   "source": [
    "from sklearn.ensemble import VotingClassifier\n",
    "\n",
    "# fit the ensemble classifier on the training data\n",
    "models = []\n",
    "accuracies = []\n",
    "\n",
    "i = 0\n",
    "\n",
    "while (i<=500):\n",
    "    ensemble_clf = VotingClassifier(estimators=[('ripper_inv',ripper_clf),('ensemble_ripper',eclf)], voting='soft')\n",
    "    ensemble_clf.fit(X[0], y[0])\n",
    "    accuracy = ensemble_clf.score(Xtest[0], Ytest[0])\n",
    "    models.append(ensemble_clf)\n",
    "    accuracies.append(accuracy)\n",
    "    i = i + 1\n",
    "\n",
    "final_accuracy = max(accuracies)\n",
    "max_index = max(enumerate(accuracies), key=lambda x: x[1])[0]\n",
    "\n",
    "final_model = models[max_index]\n",
    "\n",
    "print(\"ACCURACY :\", final_accuracy)\n",
    "print(\"ACCURACY CHECK :\", final_model.score(Xtest[0], Ytest[0]))"
   ]
  },
  {
   "cell_type": "code",
   "execution_count": 40,
   "metadata": {},
   "outputs": [
    {
     "name": "stdout",
     "output_type": "stream",
     "text": [
      "ACCURACY : 0.9285714285714286\n",
      "ACCURACY CHECK : 0.9285714285714286\n"
     ]
    }
   ],
   "source": [
    "from sklearn.ensemble import VotingClassifier\n",
    "\n",
    "# fit the ensemble classifier on the training data\n",
    "models = []\n",
    "accuracies = []\n",
    "\n",
    "i = 0\n",
    "\n",
    "while (i<=500):\n",
    "    ensemble_clf = VotingClassifier(estimators=[('ripper_inv',ripper_clf),('ensemble_ripper',eclf)], voting='hard')\n",
    "    ensemble_clf.fit(X[0], y[0])\n",
    "    accuracy = ensemble_clf.score(Xtest[0], Ytest[0])\n",
    "    models.append(ensemble_clf)\n",
    "    accuracies.append(accuracy)\n",
    "    i = i + 1\n",
    "\n",
    "final_accuracy = max(accuracies)\n",
    "max_index = max(enumerate(accuracies), key=lambda x: x[1])[0]\n",
    "\n",
    "final_model2 = models[max_index]\n",
    "\n",
    "print(\"ACCURACY :\", final_accuracy)\n",
    "print(\"ACCURACY CHECK :\", final_model2.score(Xtest[0], Ytest[0]))"
   ]
  },
  {
   "cell_type": "code",
   "execution_count": 41,
   "metadata": {},
   "outputs": [],
   "source": [
    "model_list1 = [('ripper{}'.format(i+1), models_ripper[i]) for i in range(len(models_ripper[1:]))]"
   ]
  },
  {
   "cell_type": "code",
   "execution_count": 42,
   "metadata": {},
   "outputs": [
    {
     "name": "stdout",
     "output_type": "stream",
     "text": [
      "ACCURACY : 0.8857142857142857\n",
      "ACCURACY CHECK : 0.8857142857142857\n"
     ]
    }
   ],
   "source": [
    "from sklearn.ensemble import VotingClassifier\n",
    "\n",
    "# fit the ensemble classifier on the training data\n",
    "models = []\n",
    "accuracies = []\n",
    "\n",
    "i = 0\n",
    "\n",
    "while (i<=500):\n",
    "    ensemble_clf = VotingClassifier(estimators=model_list1, voting='hard')\n",
    "    ensemble_clf.fit(X[0], y[0])\n",
    "    accuracy = ensemble_clf.score(Xtest[0], Ytest[0])\n",
    "    models.append(ensemble_clf)\n",
    "    accuracies.append(accuracy)\n",
    "    i = i + 1\n",
    "\n",
    "final_accuracy = max(accuracies)\n",
    "max_index = max(enumerate(accuracies), key=lambda x: x[1])[0]\n",
    "\n",
    "pre_final_model = models[max_index]\n",
    "\n",
    "print(\"ACCURACY :\", final_accuracy)\n",
    "print(\"ACCURACY CHECK :\", pre_final_model.score(Xtest[0], Ytest[0]))"
   ]
  },
  {
   "cell_type": "code",
   "execution_count": 44,
   "metadata": {},
   "outputs": [
    {
     "data": {
      "text/plain": [
       "['R_prediagnosis_clf.joblib']"
      ]
     },
     "execution_count": 44,
     "metadata": {},
     "output_type": "execute_result"
    }
   ],
   "source": [
    "joblib.dump(final_model, 'R_diagnosis1_clf.joblib')\n",
    "joblib.dump(final_model2, 'R_diagnosis2_clf.joblib')\n",
    "joblib.dump(pre_final_model, 'R_prediagnosis_clf.joblib')"
   ]
  },
  {
   "cell_type": "code",
   "execution_count": 45,
   "metadata": {},
   "outputs": [
    {
     "name": "stdout",
     "output_type": "stream",
     "text": [
      "ACCURACY : 0.9\n",
      "ACCURACY CHECK : 0.9\n"
     ]
    }
   ],
   "source": [
    "from sklearn.ensemble import VotingClassifier\n",
    "\n",
    "# fit the ensemble classifier on the training data\n",
    "models = []\n",
    "accuracies = []\n",
    "\n",
    "i = 0\n",
    "\n",
    "while (i<=500):\n",
    "    ensemble_clf = VotingClassifier(estimators=[('ripper_inv',ripper_clf),('ensemble_ripper',pre_final_model)], voting='hard')\n",
    "    ensemble_clf.fit(X[0], y[0])\n",
    "    accuracy = ensemble_clf.score(Xtest[0], Ytest[0])\n",
    "    models.append(ensemble_clf)\n",
    "    accuracies.append(accuracy)\n",
    "    i = i + 1\n",
    "\n",
    "final_accuracy = max(accuracies)\n",
    "max_index = max(enumerate(accuracies), key=lambda x: x[1])[0]\n",
    "\n",
    "final_model4 = models[max_index]\n",
    "\n",
    "print(\"ACCURACY :\", final_accuracy)\n",
    "print(\"ACCURACY CHECK :\", final_model4.score(Xtest[0], Ytest[0]))"
   ]
  },
  {
   "cell_type": "code",
   "execution_count": 46,
   "metadata": {},
   "outputs": [
    {
     "data": {
      "text/plain": [
       "['R_diagnosis4_clf.joblib']"
      ]
     },
     "execution_count": 46,
     "metadata": {},
     "output_type": "execute_result"
    }
   ],
   "source": [
    "\n",
    "joblib.dump(final_model4, 'R_diagnosis4_clf.joblib')"
   ]
  },
  {
   "cell_type": "code",
   "execution_count": 47,
   "metadata": {},
   "outputs": [
    {
     "name": "stdout",
     "output_type": "stream",
     "text": [
      "ACCURACY : 0.9285714285714286\n",
      "ACCURACY CHECK : 0.9285714285714286\n"
     ]
    }
   ],
   "source": [
    "from sklearn.ensemble import VotingClassifier\n",
    "\n",
    "# fit the ensemble classifier on the training data\n",
    "models = []\n",
    "accuracies = []\n",
    "\n",
    "i = 0\n",
    "\n",
    "while (i<=500):\n",
    "    ensemble_clf = VotingClassifier(estimators=[('f1',final_model),('f4',final_model4)], voting='hard')\n",
    "    ensemble_clf.fit(X[0], y[0])\n",
    "    accuracy = ensemble_clf.score(Xtest[0], Ytest[0])\n",
    "    models.append(ensemble_clf)\n",
    "    accuracies.append(accuracy)\n",
    "    i = i + 1\n",
    "\n",
    "final_accuracy = max(accuracies)\n",
    "max_index = max(enumerate(accuracies), key=lambda x: x[1])[0]\n",
    "\n",
    "final_model5 = models[max_index]\n",
    "\n",
    "print(\"ACCURACY :\", final_accuracy)\n",
    "print(\"ACCURACY CHECK :\", final_model5.score(Xtest[0], Ytest[0]))"
   ]
  },
  {
   "cell_type": "code",
   "execution_count": null,
   "metadata": {},
   "outputs": [],
   "source": []
  }
 ],
 "metadata": {
  "colab": {
   "collapsed_sections": [
    "CqGAUn4Wraq3"
   ],
   "provenance": []
  },
  "kernelspec": {
   "display_name": "Python 3 (ipykernel)",
   "language": "python",
   "name": "python3"
  },
  "language_info": {
   "codemirror_mode": {
    "name": "ipython",
    "version": 3
   },
   "file_extension": ".py",
   "mimetype": "text/x-python",
   "name": "python",
   "nbconvert_exporter": "python",
   "pygments_lexer": "ipython3",
   "version": "3.9.13"
  }
 },
 "nbformat": 4,
 "nbformat_minor": 1
}
