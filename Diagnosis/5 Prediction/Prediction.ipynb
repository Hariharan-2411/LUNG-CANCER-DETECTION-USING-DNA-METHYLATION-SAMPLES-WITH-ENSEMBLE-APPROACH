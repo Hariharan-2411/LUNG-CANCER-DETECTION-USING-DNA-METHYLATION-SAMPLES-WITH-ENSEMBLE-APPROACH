{
 "cells": [
  {
   "cell_type": "code",
   "execution_count": 17,
   "id": "580c86bc",
   "metadata": {},
   "outputs": [],
   "source": [
    "import pickle\n",
    "import joblib\n",
    "with open('Dependency/FeatureSelectedData.pkl', 'rb') as f:\n",
    "    X, y, Xtest, Ytest  = pickle.load(f)\n",
    "RIPPER = joblib.load('Dependency/R_diagnosis1_clf.joblib')\n",
    "result = {0:\"Tumor Sample\",1:\"Non-Tumor Sample\"}"
   ]
  },
  {
   "cell_type": "code",
   "execution_count": 7,
   "id": "9772e64b",
   "metadata": {},
   "outputs": [],
   "source": [
    "import GEOparse\n",
    "gse = GEOparse.get_GEO(geo=\"GSE32861\", destdir=\"/bin/LungCancer\")\n"
   ]
  },
  {
   "cell_type": "code",
   "execution_count": 23,
   "id": "4578285b",
   "metadata": {},
   "outputs": [],
   "source": [
    "query = 'GSM813186'"
   ]
  },
  {
   "cell_type": "code",
   "execution_count": 24,
   "id": "b84bf22d",
   "metadata": {},
   "outputs": [
    {
     "data": {
      "text/plain": [
       "'Normal lung'"
      ]
     },
     "execution_count": 24,
     "metadata": {},
     "output_type": "execute_result"
    }
   ],
   "source": [
    "gse.gsms[query].metadata['characteristics_ch1']\n",
    "gse.phenotype_data['characteristics_ch1.7.tissue'][query]"
   ]
  },
  {
   "cell_type": "code",
   "execution_count": 25,
   "id": "162587b1",
   "metadata": {},
   "outputs": [
    {
     "data": {
      "text/html": [
       "<div>\n",
       "<style scoped>\n",
       "    .dataframe tbody tr th:only-of-type {\n",
       "        vertical-align: middle;\n",
       "    }\n",
       "\n",
       "    .dataframe tbody tr th {\n",
       "        vertical-align: top;\n",
       "    }\n",
       "\n",
       "    .dataframe thead th {\n",
       "        text-align: right;\n",
       "    }\n",
       "</style>\n",
       "<table border=\"1\" class=\"dataframe\">\n",
       "  <thead>\n",
       "    <tr style=\"text-align: right;\">\n",
       "      <th>ID_REF</th>\n",
       "      <th>cg00117172</th>\n",
       "      <th>cg01354473</th>\n",
       "      <th>cg01683883</th>\n",
       "      <th>cg02906939</th>\n",
       "      <th>cg02909790</th>\n",
       "      <th>cg06194808</th>\n",
       "      <th>cg07014174</th>\n",
       "      <th>cg08089301</th>\n",
       "      <th>cg10114327</th>\n",
       "      <th>cg12374721</th>\n",
       "      <th>cg12584889</th>\n",
       "      <th>cg16731240</th>\n",
       "      <th>cg21790626</th>\n",
       "      <th>cg26521404</th>\n",
       "      <th>cg27188703</th>\n",
       "    </tr>\n",
       "  </thead>\n",
       "  <tbody>\n",
       "    <tr>\n",
       "      <th>GSM813186</th>\n",
       "      <td>0.152311</td>\n",
       "      <td>0.167265</td>\n",
       "      <td>0.219113</td>\n",
       "      <td>0.848454</td>\n",
       "      <td>0.042525</td>\n",
       "      <td>0.658387</td>\n",
       "      <td>0.820038</td>\n",
       "      <td>0.045843</td>\n",
       "      <td>0.346976</td>\n",
       "      <td>0.120743</td>\n",
       "      <td>0.708274</td>\n",
       "      <td>0.218313</td>\n",
       "      <td>0.04716</td>\n",
       "      <td>0.149191</td>\n",
       "      <td>0.233758</td>\n",
       "    </tr>\n",
       "  </tbody>\n",
       "</table>\n",
       "</div>"
      ],
      "text/plain": [
       "ID_REF     cg00117172  cg01354473  cg01683883  cg02906939  cg02909790  \\\n",
       "GSM813186    0.152311    0.167265    0.219113    0.848454    0.042525   \n",
       "\n",
       "ID_REF     cg06194808  cg07014174  cg08089301  cg10114327  cg12374721  \\\n",
       "GSM813186    0.658387    0.820038    0.045843    0.346976    0.120743   \n",
       "\n",
       "ID_REF     cg12584889  cg16731240  cg21790626  cg26521404  cg27188703  \n",
       "GSM813186    0.708274    0.218313     0.04716    0.149191    0.233758  "
      ]
     },
     "execution_count": 25,
     "metadata": {},
     "output_type": "execute_result"
    }
   ],
   "source": [
    "import pandas as pd\n",
    "\n",
    "test = pd.DataFrame(columns=Xtest[0].columns)\n",
    "\n",
    "\n",
    "col_values = []\n",
    "for i in test.columns:\n",
    "    v = gse.gsms[query].table.loc[gse.gsms[query].table['ID_REF'] == i, 'VALUE']\n",
    "    v = v.values[0]\n",
    "    col_values.append(v)\n",
    "\n",
    "test.loc[query] = col_values\n",
    "\n",
    "test"
   ]
  },
  {
   "cell_type": "code",
   "execution_count": 26,
   "id": "7af19498",
   "metadata": {},
   "outputs": [
    {
     "data": {
      "text/plain": [
       "'Non-Tumor Sample'"
      ]
     },
     "execution_count": 26,
     "metadata": {},
     "output_type": "execute_result"
    }
   ],
   "source": [
    "y_pred = RIPPER.predict(test)\n",
    "result[y_pred[0]]"
   ]
  },
  {
   "cell_type": "code",
   "execution_count": 27,
   "id": "1aba6986",
   "metadata": {},
   "outputs": [],
   "source": [
    "diagnosis_features = Xtest[0].columns"
   ]
  },
  {
   "cell_type": "code",
   "execution_count": 28,
   "id": "d848373a",
   "metadata": {},
   "outputs": [],
   "source": [
    "with open('DFeatures', 'wb') as f:\n",
    "    pickle.dump((diagnosis_features), f)"
   ]
  },
  {
   "cell_type": "code",
   "execution_count": null,
   "id": "f723db0c",
   "metadata": {},
   "outputs": [],
   "source": []
  }
 ],
 "metadata": {
  "kernelspec": {
   "display_name": "Python 3 (ipykernel)",
   "language": "python",
   "name": "python3"
  },
  "language_info": {
   "codemirror_mode": {
    "name": "ipython",
    "version": 3
   },
   "file_extension": ".py",
   "mimetype": "text/x-python",
   "name": "python",
   "nbconvert_exporter": "python",
   "pygments_lexer": "ipython3",
   "version": "3.9.13"
  }
 },
 "nbformat": 4,
 "nbformat_minor": 5
}
