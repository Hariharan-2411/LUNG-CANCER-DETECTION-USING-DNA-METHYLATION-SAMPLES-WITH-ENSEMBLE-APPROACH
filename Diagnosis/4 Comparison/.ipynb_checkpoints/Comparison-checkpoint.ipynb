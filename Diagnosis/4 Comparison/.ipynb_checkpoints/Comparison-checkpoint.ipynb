{
 "cells": [
  {
   "cell_type": "code",
   "execution_count": 4,
   "id": "580c86bc",
   "metadata": {},
   "outputs": [],
   "source": [
    "import pickle\n",
    "import joblib\n",
    "with open('Dependency/FeatureSelectedData.pkl', 'rb') as f:\n",
    "    X, y, Xtest, Ytest  = pickle.load(f)\n"
   ]
  },
  {
   "cell_type": "code",
   "execution_count": 5,
   "id": "9772e64b",
   "metadata": {},
   "outputs": [],
   "source": [
    "RIPPER = joblib.load('Dependency/R_diagnosis1_clf.joblib')\n",
    "RandomForest = joblib.load('Dependency/RandomForest_clf.joblib')\n",
    "LogisticRegression = joblib.load('Dependency/LogisticReg_clf.joblib')\n",
    "KNeighbors = joblib.load('Dependency/KNeighbors_clf.joblib')\n",
    "KernelSVM = joblib.load('Dependency/KernelSVM_clf.joblib')\n",
    "ComplementNB = joblib.load('Dependency/ComplementNB_clf.joblib')"
   ]
  },
  {
   "cell_type": "code",
   "execution_count": 6,
   "id": "7327da4b",
   "metadata": {},
   "outputs": [
    {
     "name": "stdout",
     "output_type": "stream",
     "text": [
      "Accuracy Results\n",
      "ALGORITHM\n",
      "Ensembled RIPPER\n",
      " 0.9428571428571428\n",
      "\n",
      "Random Forest\n",
      " 0.7714285714285715\n",
      "\n",
      "Logistic Regression\n",
      " 0.7142857142857143\n",
      "\n",
      "K Neighbors\n",
      " 0.6857142857142857\n",
      "\n",
      "Kernel SVM\n",
      " 0.7142857142857143\n",
      "\n",
      "Complement Naive Bayes\n",
      " 0.7857142857142857\n"
     ]
    }
   ],
   "source": [
    "from sklearn.metrics import accuracy_score\n",
    "print(\"Accuracy Results\")\n",
    "print(\"ALGORITHM\")\n",
    "print(\"Ensembled RIPPER\\n\",RIPPER.score(Xtest[0], Ytest[0]))\n",
    "print(\"\\nRandom Forest\\n\",RandomForest.score(Xtest[0], Ytest[0]))\n",
    "print(\"\\nLogistic Regression\\n\",accuracy_score(Ytest[0], LogisticRegression.predict(Xtest[0])))\n",
    "print(\"\\nK Neighbors\\n\",accuracy_score(Ytest[0], KNeighbors.predict(Xtest[0])))\n",
    "print(\"\\nKernel SVM\\n\",accuracy_score(Ytest[0], KernelSVM.predict(Xtest[0])))\n",
    "print(\"\\nComplement Naive Bayes\\n\",accuracy_score(Ytest[0], ComplementNB.predict(Xtest[0])))\n"
   ]
  }
 ],
 "metadata": {
  "kernelspec": {
   "display_name": "Python 3 (ipykernel)",
   "language": "python",
   "name": "python3"
  },
  "language_info": {
   "codemirror_mode": {
    "name": "ipython",
    "version": 3
   },
   "file_extension": ".py",
   "mimetype": "text/x-python",
   "name": "python",
   "nbconvert_exporter": "python",
   "pygments_lexer": "ipython3",
   "version": "3.9.13"
  }
 },
 "nbformat": 4,
 "nbformat_minor": 5
}
