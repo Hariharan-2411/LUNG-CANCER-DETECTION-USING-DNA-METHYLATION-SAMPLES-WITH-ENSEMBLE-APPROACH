{
 "cells": [
  {
   "cell_type": "code",
   "execution_count": 2,
   "metadata": {},
   "outputs": [],
   "source": [
    "import pickle\n",
    "import joblib\n",
    "with open('Dependency/FeatureSelectedData.pkl', 'rb') as f:\n",
    "    X_train_fs, y_train, X_test_fs, y_test  = pickle.load(f)"
   ]
  },
  {
   "cell_type": "code",
   "execution_count": 3,
   "metadata": {
    "colab": {
     "base_uri": "https://localhost:8080/"
    },
    "id": "oqighsgzAgkb",
    "outputId": "82cb54eb-b254-4fc0-af73-7c9af0eccf6d"
   },
   "outputs": [
    {
     "name": "stdout",
     "output_type": "stream",
     "text": [
      "Done\n"
     ]
    }
   ],
   "source": [
    "from sklearn.neighbors import KNeighborsClassifier\n",
    "clf = KNeighborsClassifier()\n",
    "clf.fit(X_train_fs, y_train)\n",
    "joblib.dump(clf, 'KNeighbors.joblib')\n",
    "print(\"Done\")"
   ]
  },
  {
   "cell_type": "code",
   "execution_count": 4,
   "metadata": {
    "colab": {
     "base_uri": "https://localhost:8080/"
    },
    "id": "8txkgjK-GpI4",
    "outputId": "40480cd0-f35f-4711-b6d0-ca03d1aa0e32"
   },
   "outputs": [
    {
     "name": "stdout",
     "output_type": "stream",
     "text": [
      "Done\n"
     ]
    }
   ],
   "source": [
    "from sklearn.linear_model import LogisticRegression\n",
    "lc = LogisticRegression(random_state=0)\n",
    "lc.fit(X_train_fs, y_train)\n",
    "joblib.dump(lc, 'LogisticReg.joblib')\n",
    "print(\"Done\")"
   ]
  },
  {
   "cell_type": "code",
   "execution_count": 5,
   "metadata": {},
   "outputs": [
    {
     "name": "stdout",
     "output_type": "stream",
     "text": [
      "Done\n"
     ]
    }
   ],
   "source": [
    "from sklearn.ensemble import RandomForestClassifier\n",
    "rf = RandomForestClassifier(n_estimators=100, random_state=42)\n",
    "rf.fit(X_train_fs, y_train)\n",
    "joblib.dump(rf, 'RandomForest.joblib')\n",
    "print(\"Done\")"
   ]
  },
  {
   "cell_type": "code",
   "execution_count": 6,
   "metadata": {},
   "outputs": [
    {
     "name": "stdout",
     "output_type": "stream",
     "text": [
      "Done\n"
     ]
    }
   ],
   "source": [
    "from sklearn.naive_bayes import ComplementNB\n",
    "from sklearn.datasets import make_classification\n",
    "clf = ComplementNB()\n",
    "clf.fit(X_train_fs, y_train)\n",
    "joblib.dump(clf, 'ComplementNB.joblib')\n",
    "print(\"Done\")"
   ]
  },
  {
   "cell_type": "code",
   "execution_count": 7,
   "metadata": {},
   "outputs": [
    {
     "name": "stdout",
     "output_type": "stream",
     "text": [
      "Done\n"
     ]
    }
   ],
   "source": [
    "from sklearn.model_selection import train_test_split\n",
    "from sklearn.svm import SVC\n",
    "\n",
    "model = SVC(kernel='rbf')\n",
    "model.fit(X_train_fs, y_train)\n",
    "joblib.dump(model, 'KernelSVM.joblib')\n",
    "print(\"Done\")\n"
   ]
  },
  {
   "cell_type": "code",
   "execution_count": 27,
   "metadata": {
    "colab": {
     "base_uri": "https://localhost:8080/"
    },
    "id": "FnhlPKXq80cm",
    "outputId": "bf8426dd-8fe6-4efe-eca0-472814a0f4d9"
   },
   "outputs": [
    {
     "name": "stdout",
     "output_type": "stream",
     "text": [
      "Looking in indexes: https://pypi.org/simple, https://us-python.pkg.dev/colab-wheels/public/simple/\n",
      "Collecting wittgenstein\n",
      "  Downloading wittgenstein-0.3.4-py3-none-any.whl (110 kB)\n",
      "\u001b[2K     \u001b[90m━━━━━━━━━━━━━━━━━━━━━━━━━━━━━━━━━━━━━━━\u001b[0m \u001b[32m110.6/110.6 kB\u001b[0m \u001b[31m5.8 MB/s\u001b[0m eta \u001b[36m0:00:00\u001b[0m\n",
      "\u001b[?25hRequirement already satisfied: pandas in /usr/local/lib/python3.10/dist-packages (from wittgenstein) (1.5.3)\n",
      "Requirement already satisfied: numpy in /usr/local/lib/python3.10/dist-packages (from wittgenstein) (1.22.4)\n",
      "Requirement already satisfied: python-dateutil>=2.8.1 in /usr/local/lib/python3.10/dist-packages (from pandas->wittgenstein) (2.8.2)\n",
      "Requirement already satisfied: pytz>=2020.1 in /usr/local/lib/python3.10/dist-packages (from pandas->wittgenstein) (2022.7.1)\n",
      "Requirement already satisfied: six>=1.5 in /usr/local/lib/python3.10/dist-packages (from python-dateutil>=2.8.1->pandas->wittgenstein) (1.16.0)\n",
      "Installing collected packages: wittgenstein\n",
      "Successfully installed wittgenstein-0.3.4\n"
     ]
    }
   ],
   "source": [
    " pip install wittgenstein"
   ]
  },
  {
   "cell_type": "code",
   "execution_count": 22,
   "metadata": {},
   "outputs": [],
   "source": [
    "X_train = X_train_fs[['cg24358465']]"
   ]
  },
  {
   "cell_type": "code",
   "execution_count": 44,
   "metadata": {},
   "outputs": [
    {
     "name": "stdout",
     "output_type": "stream",
     "text": [
      "ACCURACY : 0.7096774193548387\n",
      "ACCURACY CHECK : 0.7096774193548387\n"
     ]
    }
   ],
   "source": [
    "import wittgenstein as lw\n",
    "\n",
    "models = []\n",
    "accuracies = []\n",
    "\n",
    "i = 0\n",
    "\n",
    "while (i<=500):\n",
    "    ripper_clf3 = lw.RIPPER()\n",
    "    ripper_clf3.fit(X_train, y_train)\n",
    "    accuracy = ripper_clf3.score(X_test_fs, y_test)\n",
    "    models.append(ripper_clf3)\n",
    "    accuracies.append(accuracy)\n",
    "    i = i + 1\n",
    "\n",
    "final_accuracy = max(accuracies)\n",
    "max_index = max(enumerate(accuracies), key=lambda x: x[1])[0]\n",
    "\n",
    "ripper_clf = models[max_index]\n",
    "\n",
    "print(\"ACCURACY :\", final_accuracy)\n",
    "print(\"ACCURACY CHECK :\", ripper_clf.score(X_test_fs, y_test))"
   ]
  },
  {
   "cell_type": "code",
   "execution_count": 45,
   "metadata": {},
   "outputs": [],
   "source": [
    "X_train = X_train_fs[['cg02833180', 'cg02909790', 'cg03870261', 'cg04106785', 'cg07747299', 'cg15364618', 'cg15383120', 'cg15537850', 'cg15812957', 'cg16175725', 'cg16706631', 'cg17410236', 'cg24358465']]"
   ]
  },
  {
   "cell_type": "code",
   "execution_count": 46,
   "metadata": {
    "colab": {
     "base_uri": "https://localhost:8080/"
    },
    "id": "HUru0Jv5q30D",
    "outputId": "f03f49da-10f8-49d6-923a-60177c6f8119"
   },
   "outputs": [
    {
     "name": "stdout",
     "output_type": "stream",
     "text": [
      "ACCURACY : 0.7419354838709677\n",
      "ACCURACY CHECK : 0.7419354838709677\n"
     ]
    }
   ],
   "source": [
    "import wittgenstein as lw\n",
    "\n",
    "models = []\n",
    "accuracies = []\n",
    "\n",
    "i = 0\n",
    "\n",
    "while (i<=500):\n",
    "    ripper_clf3 = lw.RIPPER()\n",
    "    ripper_clf3.fit(X_train, y_train)\n",
    "    accuracy = ripper_clf3.score(X_test_fs, y_test)\n",
    "    models.append(ripper_clf3)\n",
    "    accuracies.append(accuracy)\n",
    "    i = i + 1\n",
    "\n",
    "final_accuracy = max(accuracies)\n",
    "max_index = max(enumerate(accuracies), key=lambda x: x[1])[0]\n",
    "\n",
    "ripper_clf_2 = models[max_index]\n",
    "\n",
    "print(\"ACCURACY :\", final_accuracy)\n",
    "print(\"ACCURACY CHECK :\", ripper_clf_2.score(X_test_fs, y_test))\n"
   ]
  },
  {
   "cell_type": "code",
   "execution_count": 56,
   "metadata": {},
   "outputs": [
    {
     "name": "stdout",
     "output_type": "stream",
     "text": [
      "ACCURACY : 0.7096774193548387\n",
      "ACCURACY CHECK : 0.7096774193548387\n"
     ]
    }
   ],
   "source": [
    "from sklearn.ensemble import VotingClassifier\n",
    "\n",
    "\n",
    "# fit the ensemble classifier on the training data\n",
    "models = []\n",
    "accuracies = []\n",
    "\n",
    "i = 0\n",
    "\n",
    "while (i<=500):\n",
    "    ensemble_clf = VotingClassifier(estimators=[('ripper_inv',ripper_clf),('ripper_cmb',ripper_clf_2)], voting='soft')\n",
    "    ensemble_clf.fit(X_train, y_train)\n",
    "    accuracy = ensemble_clf.score(X_test_fs, y_test)\n",
    "    models.append(ensemble_clf)\n",
    "    accuracies.append(accuracy)\n",
    "    i = i + 1\n",
    "\n",
    "final_accuracy = max(accuracies)\n",
    "max_index = max(enumerate(accuracies), key=lambda x: x[1])[0]\n",
    "\n",
    "final_model = models[max_index]\n",
    "\n",
    "print(\"ACCURACY :\", final_accuracy)\n",
    "print(\"ACCURACY CHECK :\", final_model.score(X_test_fs, y_test))"
   ]
  },
  {
   "cell_type": "code",
   "execution_count": 57,
   "metadata": {},
   "outputs": [
    {
     "name": "stdout",
     "output_type": "stream",
     "text": [
      "ACCURACY : 0.7741935483870968\n",
      "ACCURACY CHECK : 0.7741935483870968\n"
     ]
    }
   ],
   "source": [
    "from sklearn.ensemble import VotingClassifier\n",
    "\n",
    "\n",
    "# fit the ensemble classifier on the training data\n",
    "models = []\n",
    "accuracies = []\n",
    "\n",
    "i = 0\n",
    "\n",
    "while (i<=500):\n",
    "    ensemble_clf = VotingClassifier(estimators=[('ripper_inv',ripper_clf),('ripper_cmb',ripper_clf_2)], voting='hard')\n",
    "    ensemble_clf.fit(X_train, y_train)\n",
    "    accuracy = ensemble_clf.score(X_test_fs, y_test)\n",
    "    models.append(ensemble_clf)\n",
    "    accuracies.append(accuracy)\n",
    "    i = i + 1\n",
    "\n",
    "final_accuracy = max(accuracies)\n",
    "max_index = max(enumerate(accuracies), key=lambda x: x[1])[0]\n",
    "\n",
    "final_model2 = models[max_index]\n",
    "\n",
    "print(\"ACCURACY :\", final_accuracy)\n",
    "print(\"ACCURACY CHECK :\", final_model2.score(X_test_fs, y_test))\n",
    "\n"
   ]
  },
  {
   "cell_type": "code",
   "execution_count": 59,
   "metadata": {},
   "outputs": [
    {
     "name": "stdout",
     "output_type": "stream",
     "text": [
      "Done\n"
     ]
    }
   ],
   "source": [
    "joblib.dump(final_model2, 'R_Prognosis.joblib')\n",
    "print(\"Done\")"
   ]
  },
  {
   "cell_type": "code",
   "execution_count": 53,
   "metadata": {},
   "outputs": [
    {
     "name": "stdout",
     "output_type": "stream",
     "text": [
      "Slicing Sequence...\n",
      "Training MGS Random Forests...\n",
      "pred_Prob_prf :  [[0.0175384  0.9824616 ]\n",
      " [0.17350543 0.82649457]\n",
      " [0.1521594  0.8478406 ]\n",
      " ...\n",
      " [0.74953794 0.25046206]\n",
      " [0.94829175 0.05170825]\n",
      " [0.9702973  0.0297027 ]]\n",
      "pred_Prob_crf :  [[0.0268232  0.9731768 ]\n",
      " [0.2017729  0.7982271 ]\n",
      " [0.06270953 0.93729047]\n",
      " ...\n",
      " [0.75331962 0.24668038]\n",
      " [0.99517377 0.00482623]\n",
      " [1.         0.        ]]\n",
      "Adding/Training Layer, n_layer=1\n",
      "Layer validation accuracy = 0.9583333333333334\n",
      "Adding/Training Layer, n_layer=2\n",
      "Layer validation accuracy = 0.9583333333333334\n",
      "Slicing Sequence...\n"
     ]
    },
    {
     "data": {
      "text/plain": [
       "array([1, 1, 1, 0, 1, 0, 1, 0, 1, 0, 1, 0, 1, 0, 1, 1, 1, 0, 1, 0, 1, 0,\n",
       "       1, 0, 1, 0, 1, 1, 1, 0, 1, 0, 1, 1, 1, 0, 1, 0, 1, 0, 1, 0, 1, 1,\n",
       "       1, 0, 0, 0, 1, 0, 1, 0, 1, 0, 1, 0, 1, 0, 1, 1, 1, 0, 1, 1, 1, 0,\n",
       "       1, 0, 1, 0], dtype=int64)"
      ]
     },
     "execution_count": 53,
     "metadata": {},
     "output_type": "execute_result"
    }
   ],
   "source": [
    "from GCForest import *\n",
    "gcf = gcForest(shape_1X=15, window=3) \n",
    "gcf.fit(X.to_numpy(), y.ravel())\n",
    "gcf.predict(Xtest.to_numpy())"
   ]
  }
 ],
 "metadata": {
  "colab": {
   "collapsed_sections": [
    "CqGAUn4Wraq3"
   ],
   "provenance": []
  },
  "kernelspec": {
   "display_name": "Python 3 (ipykernel)",
   "language": "python",
   "name": "python3"
  },
  "language_info": {
   "codemirror_mode": {
    "name": "ipython",
    "version": 3
   },
   "file_extension": ".py",
   "mimetype": "text/x-python",
   "name": "python",
   "nbconvert_exporter": "python",
   "pygments_lexer": "ipython3",
   "version": "3.9.13"
  }
 },
 "nbformat": 4,
 "nbformat_minor": 1
}
