{
 "cells": [
  {
   "cell_type": "code",
   "execution_count": 1,
   "metadata": {},
   "outputs": [],
   "source": [
    "import pickle\n",
    "import joblib\n",
    "with open('Dependency/FeatureSelectedData.pkl', 'rb') as f:\n",
    "    X_train_fs, y_train, X_test_fs, y_test  = pickle.load(f)\n",
    "\n",
    "Ensembled_Ripper = joblib.load('R_Prognosis.joblib')"
   ]
  },
  {
   "cell_type": "code",
   "execution_count": 2,
   "metadata": {},
   "outputs": [
    {
     "name": "stdout",
     "output_type": "stream",
     "text": [
      "ACCURACY CHECK : 0.7741935483870968\n"
     ]
    }
   ],
   "source": [
    "print(\"ACCURACY CHECK :\", Ensembled_Ripper.score(X_test_fs, y_test))"
   ]
  },
  {
   "cell_type": "code",
   "execution_count": null,
   "metadata": {},
   "outputs": [],
   "source": [
    "from sklearn.tree import DecisionTreeClassifier\n",
    "from deepforest import CascadeForestClassifier\n",
    "\n",
    "\n",
    "# Base classifier for leaf nodes in the deep forest\n",
    "base_clf = Ensembled_Ripper\n",
    "\n",
    "# Create a deep forest with 3 levels, each with 10 trees\n",
    "dfc = CascadeForestClassifier(random_state=42, n_jobs=-1)\n",
    "dfc.add_cascade_layer(n_layers=3, n_estimators=10, base_classifier=base_clf)\n",
    "\n",
    "# Fit the deep forest to the training data\n",
    "dfc.fit(X_train, y_train)\n",
    "\n",
    "# Predict on the test data\n",
    "y_pred = dfc.predict(X_test)\n"
   ]
  }
 ],
 "metadata": {
  "colab": {
   "collapsed_sections": [
    "CqGAUn4Wraq3"
   ],
   "provenance": []
  },
  "kernelspec": {
   "display_name": "Python 3 (ipykernel)",
   "language": "python",
   "name": "python3"
  },
  "language_info": {
   "codemirror_mode": {
    "name": "ipython",
    "version": 3
   },
   "file_extension": ".py",
   "mimetype": "text/x-python",
   "name": "python",
   "nbconvert_exporter": "python",
   "pygments_lexer": "ipython3",
   "version": "3.9.13"
  }
 },
 "nbformat": 4,
 "nbformat_minor": 1
}
