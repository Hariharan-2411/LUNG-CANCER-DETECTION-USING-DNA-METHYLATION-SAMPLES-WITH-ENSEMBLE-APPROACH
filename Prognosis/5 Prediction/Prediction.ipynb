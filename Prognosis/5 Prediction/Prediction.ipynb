{
 "cells": [
  {
   "cell_type": "code",
   "execution_count": 73,
   "id": "580c86bc",
   "metadata": {},
   "outputs": [],
   "source": [
    "import pickle\n",
    "import joblib\n",
    "with open('Dependency/FeatureSelectedData.pkl', 'rb') as f:\n",
    "    X_train_fs, y_train, X_test_fs, y_test  = pickle.load(f)\n",
    "RIPPER = joblib.load('Dependency/R_Prognosis.joblib')\n",
    "result = {1:\"Yes\",0:\"No\"}"
   ]
  },
  {
   "cell_type": "code",
   "execution_count": 74,
   "id": "5207c733",
   "metadata": {},
   "outputs": [
    {
     "name": "stderr",
     "output_type": "stream",
     "text": [
      "08-May-2023 18:19:07 DEBUG utils - Directory /bin/LungCancer already exists. Skipping.\n",
      "08-May-2023 18:19:07 INFO GEOparse - File already exist: using local version.\n",
      "08-May-2023 18:19:07 INFO GEOparse - Parsing /bin/LungCancer\\GSE32861_family.soft.gz: \n",
      "08-May-2023 18:19:07 DEBUG GEOparse - DATABASE: GeoMiame\n",
      "08-May-2023 18:19:07 DEBUG GEOparse - SERIES: GSE32861\n",
      "08-May-2023 18:19:07 DEBUG GEOparse - PLATFORM: GPL8490\n",
      "08-May-2023 18:19:08 DEBUG GEOparse - SAMPLE: GSM813174\n",
      "08-May-2023 18:19:08 DEBUG GEOparse - SAMPLE: GSM813175\n",
      "08-May-2023 18:19:08 DEBUG GEOparse - SAMPLE: GSM813176\n",
      "08-May-2023 18:19:08 DEBUG GEOparse - SAMPLE: GSM813177\n",
      "08-May-2023 18:19:08 DEBUG GEOparse - SAMPLE: GSM813178\n",
      "08-May-2023 18:19:09 DEBUG GEOparse - SAMPLE: GSM813179\n",
      "08-May-2023 18:19:09 DEBUG GEOparse - SAMPLE: GSM813180\n",
      "08-May-2023 18:19:09 DEBUG GEOparse - SAMPLE: GSM813181\n",
      "08-May-2023 18:19:09 DEBUG GEOparse - SAMPLE: GSM813182\n",
      "08-May-2023 18:19:09 DEBUG GEOparse - SAMPLE: GSM813183\n",
      "08-May-2023 18:19:09 DEBUG GEOparse - SAMPLE: GSM813184\n",
      "08-May-2023 18:19:09 DEBUG GEOparse - SAMPLE: GSM813185\n",
      "08-May-2023 18:19:09 DEBUG GEOparse - SAMPLE: GSM813186\n",
      "08-May-2023 18:19:09 DEBUG GEOparse - SAMPLE: GSM813187\n",
      "08-May-2023 18:19:10 DEBUG GEOparse - SAMPLE: GSM813188\n",
      "08-May-2023 18:19:10 DEBUG GEOparse - SAMPLE: GSM813189\n",
      "08-May-2023 18:19:10 DEBUG GEOparse - SAMPLE: GSM813190\n",
      "08-May-2023 18:19:10 DEBUG GEOparse - SAMPLE: GSM813191\n",
      "08-May-2023 18:19:10 DEBUG GEOparse - SAMPLE: GSM813192\n",
      "08-May-2023 18:19:10 DEBUG GEOparse - SAMPLE: GSM813193\n",
      "08-May-2023 18:19:10 DEBUG GEOparse - SAMPLE: GSM813194\n",
      "08-May-2023 18:19:10 DEBUG GEOparse - SAMPLE: GSM813195\n",
      "08-May-2023 18:19:11 DEBUG GEOparse - SAMPLE: GSM813196\n",
      "08-May-2023 18:19:11 DEBUG GEOparse - SAMPLE: GSM813197\n",
      "08-May-2023 18:19:11 DEBUG GEOparse - SAMPLE: GSM813198\n",
      "08-May-2023 18:19:11 DEBUG GEOparse - SAMPLE: GSM813199\n",
      "08-May-2023 18:19:11 DEBUG GEOparse - SAMPLE: GSM813200\n",
      "08-May-2023 18:19:11 DEBUG GEOparse - SAMPLE: GSM813201\n",
      "08-May-2023 18:19:11 DEBUG GEOparse - SAMPLE: GSM813202\n",
      "08-May-2023 18:19:11 DEBUG GEOparse - SAMPLE: GSM813203\n",
      "08-May-2023 18:19:12 DEBUG GEOparse - SAMPLE: GSM813204\n",
      "08-May-2023 18:19:12 DEBUG GEOparse - SAMPLE: GSM813205\n",
      "08-May-2023 18:19:12 DEBUG GEOparse - SAMPLE: GSM813206\n",
      "08-May-2023 18:19:12 DEBUG GEOparse - SAMPLE: GSM813207\n",
      "08-May-2023 18:19:12 DEBUG GEOparse - SAMPLE: GSM813208\n",
      "08-May-2023 18:19:12 DEBUG GEOparse - SAMPLE: GSM813209\n",
      "08-May-2023 18:19:12 DEBUG GEOparse - SAMPLE: GSM813210\n",
      "08-May-2023 18:19:12 DEBUG GEOparse - SAMPLE: GSM813211\n",
      "08-May-2023 18:19:12 DEBUG GEOparse - SAMPLE: GSM813212\n",
      "08-May-2023 18:19:13 DEBUG GEOparse - SAMPLE: GSM813213\n",
      "08-May-2023 18:19:13 DEBUG GEOparse - SAMPLE: GSM813214\n",
      "08-May-2023 18:19:13 DEBUG GEOparse - SAMPLE: GSM813215\n",
      "08-May-2023 18:19:13 DEBUG GEOparse - SAMPLE: GSM813216\n",
      "08-May-2023 18:19:13 DEBUG GEOparse - SAMPLE: GSM813217\n",
      "08-May-2023 18:19:13 DEBUG GEOparse - SAMPLE: GSM813218\n",
      "08-May-2023 18:19:13 DEBUG GEOparse - SAMPLE: GSM813219\n",
      "08-May-2023 18:19:13 DEBUG GEOparse - SAMPLE: GSM813220\n",
      "08-May-2023 18:19:14 DEBUG GEOparse - SAMPLE: GSM813221\n",
      "08-May-2023 18:19:14 DEBUG GEOparse - SAMPLE: GSM813222\n",
      "08-May-2023 18:19:14 DEBUG GEOparse - SAMPLE: GSM813223\n",
      "08-May-2023 18:19:14 DEBUG GEOparse - SAMPLE: GSM813224\n",
      "08-May-2023 18:19:14 DEBUG GEOparse - SAMPLE: GSM813225\n",
      "08-May-2023 18:19:14 DEBUG GEOparse - SAMPLE: GSM813226\n",
      "08-May-2023 18:19:14 DEBUG GEOparse - SAMPLE: GSM813227\n",
      "08-May-2023 18:19:14 DEBUG GEOparse - SAMPLE: GSM813228\n",
      "08-May-2023 18:19:15 DEBUG GEOparse - SAMPLE: GSM813229\n",
      "08-May-2023 18:19:15 DEBUG GEOparse - SAMPLE: GSM813230\n",
      "08-May-2023 18:19:15 DEBUG GEOparse - SAMPLE: GSM813231\n",
      "08-May-2023 18:19:15 DEBUG GEOparse - SAMPLE: GSM813232\n",
      "08-May-2023 18:19:15 DEBUG GEOparse - SAMPLE: GSM813233\n",
      "08-May-2023 18:19:15 DEBUG GEOparse - SAMPLE: GSM813234\n",
      "08-May-2023 18:19:15 DEBUG GEOparse - SAMPLE: GSM813235\n",
      "08-May-2023 18:19:16 DEBUG GEOparse - SAMPLE: GSM813236\n",
      "08-May-2023 18:19:16 DEBUG GEOparse - SAMPLE: GSM813237\n",
      "08-May-2023 18:19:16 DEBUG GEOparse - SAMPLE: GSM813238\n",
      "08-May-2023 18:19:16 DEBUG GEOparse - SAMPLE: GSM813239\n",
      "08-May-2023 18:19:16 DEBUG GEOparse - SAMPLE: GSM813240\n",
      "08-May-2023 18:19:16 DEBUG GEOparse - SAMPLE: GSM813241\n",
      "08-May-2023 18:19:17 DEBUG GEOparse - SAMPLE: GSM813242\n",
      "08-May-2023 18:19:17 DEBUG GEOparse - SAMPLE: GSM813243\n",
      "08-May-2023 18:19:17 DEBUG GEOparse - SAMPLE: GSM813244\n",
      "08-May-2023 18:19:17 DEBUG GEOparse - SAMPLE: GSM813245\n",
      "08-May-2023 18:19:17 DEBUG GEOparse - SAMPLE: GSM813246\n",
      "08-May-2023 18:19:17 DEBUG GEOparse - SAMPLE: GSM813247\n",
      "08-May-2023 18:19:17 DEBUG GEOparse - SAMPLE: GSM813248\n",
      "08-May-2023 18:19:18 DEBUG GEOparse - SAMPLE: GSM813249\n",
      "08-May-2023 18:19:18 DEBUG GEOparse - SAMPLE: GSM813250\n",
      "08-May-2023 18:19:18 DEBUG GEOparse - SAMPLE: GSM813251\n",
      "08-May-2023 18:19:18 DEBUG GEOparse - SAMPLE: GSM813252\n",
      "08-May-2023 18:19:18 DEBUG GEOparse - SAMPLE: GSM813253\n",
      "08-May-2023 18:19:18 DEBUG GEOparse - SAMPLE: GSM813254\n",
      "08-May-2023 18:19:18 DEBUG GEOparse - SAMPLE: GSM813255\n",
      "08-May-2023 18:19:19 DEBUG GEOparse - SAMPLE: GSM813256\n",
      "08-May-2023 18:19:19 DEBUG GEOparse - SAMPLE: GSM813257\n",
      "08-May-2023 18:19:19 DEBUG GEOparse - SAMPLE: GSM813258\n",
      "08-May-2023 18:19:19 DEBUG GEOparse - SAMPLE: GSM813259\n",
      "08-May-2023 18:19:19 DEBUG GEOparse - SAMPLE: GSM813260\n",
      "08-May-2023 18:19:19 DEBUG GEOparse - SAMPLE: GSM813261\n",
      "08-May-2023 18:19:19 DEBUG GEOparse - SAMPLE: GSM813262\n",
      "08-May-2023 18:19:20 DEBUG GEOparse - SAMPLE: GSM813263\n",
      "08-May-2023 18:19:20 DEBUG GEOparse - SAMPLE: GSM813264\n",
      "08-May-2023 18:19:20 DEBUG GEOparse - SAMPLE: GSM813265\n",
      "08-May-2023 18:19:20 DEBUG GEOparse - SAMPLE: GSM813266\n",
      "08-May-2023 18:19:20 DEBUG GEOparse - SAMPLE: GSM813267\n",
      "08-May-2023 18:19:20 DEBUG GEOparse - SAMPLE: GSM813268\n",
      "08-May-2023 18:19:21 DEBUG GEOparse - SAMPLE: GSM813269\n",
      "08-May-2023 18:19:21 DEBUG GEOparse - SAMPLE: GSM813270\n",
      "08-May-2023 18:19:21 DEBUG GEOparse - SAMPLE: GSM813271\n",
      "08-May-2023 18:19:21 DEBUG GEOparse - SAMPLE: GSM813272\n",
      "08-May-2023 18:19:21 DEBUG GEOparse - SAMPLE: GSM813273\n",
      "08-May-2023 18:19:21 DEBUG GEOparse - SAMPLE: GSM813274\n",
      "08-May-2023 18:19:21 DEBUG GEOparse - SAMPLE: GSM813275\n",
      "08-May-2023 18:19:21 DEBUG GEOparse - SAMPLE: GSM813276\n",
      "08-May-2023 18:19:22 DEBUG GEOparse - SAMPLE: GSM813277\n",
      "08-May-2023 18:19:22 DEBUG GEOparse - SAMPLE: GSM813278\n",
      "08-May-2023 18:19:22 DEBUG GEOparse - SAMPLE: GSM813279\n",
      "08-May-2023 18:19:22 DEBUG GEOparse - SAMPLE: GSM813280\n",
      "08-May-2023 18:19:22 DEBUG GEOparse - SAMPLE: GSM813281\n",
      "08-May-2023 18:19:22 DEBUG GEOparse - SAMPLE: GSM813282\n",
      "08-May-2023 18:19:22 DEBUG GEOparse - SAMPLE: GSM813283\n",
      "08-May-2023 18:19:22 DEBUG GEOparse - SAMPLE: GSM813284\n",
      "08-May-2023 18:19:23 DEBUG GEOparse - SAMPLE: GSM813285\n",
      "08-May-2023 18:19:23 DEBUG GEOparse - SAMPLE: GSM813286\n",
      "08-May-2023 18:19:23 DEBUG GEOparse - SAMPLE: GSM813287\n",
      "08-May-2023 18:19:23 DEBUG GEOparse - SAMPLE: GSM813288\n",
      "08-May-2023 18:19:23 DEBUG GEOparse - SAMPLE: GSM813289\n",
      "08-May-2023 18:19:23 DEBUG GEOparse - SAMPLE: GSM813290\n",
      "08-May-2023 18:19:23 DEBUG GEOparse - SAMPLE: GSM813291\n"
     ]
    }
   ],
   "source": [
    "import GEOparse\n",
    "gse = GEOparse.get_GEO(geo=\"GSE32861\", destdir=\"/bin/LungCancer\")\n"
   ]
  },
  {
   "cell_type": "code",
   "execution_count": null,
   "id": "32f7f8ed",
   "metadata": {},
   "outputs": [],
   "source": [
    "query = 'GSM813174' "
   ]
  },
  {
   "cell_type": "code",
   "execution_count": 75,
   "id": "8646e61e",
   "metadata": {},
   "outputs": [
    {
     "data": {
      "text/plain": [
       "'Yes'"
      ]
     },
     "execution_count": 75,
     "metadata": {},
     "output_type": "execute_result"
    }
   ],
   "source": [
    "gse.gsms[query].metadata['characteristics_ch1']\n",
    "gse.phenotype_data['characteristics_ch1.13.recurrence'][query]"
   ]
  },
  {
   "cell_type": "code",
   "execution_count": 79,
   "id": "39eb9554",
   "metadata": {},
   "outputs": [
    {
     "data": {
      "text/html": [
       "<div>\n",
       "<style scoped>\n",
       "    .dataframe tbody tr th:only-of-type {\n",
       "        vertical-align: middle;\n",
       "    }\n",
       "\n",
       "    .dataframe tbody tr th {\n",
       "        vertical-align: top;\n",
       "    }\n",
       "\n",
       "    .dataframe thead th {\n",
       "        text-align: right;\n",
       "    }\n",
       "</style>\n",
       "<table border=\"1\" class=\"dataframe\">\n",
       "  <thead>\n",
       "    <tr style=\"text-align: right;\">\n",
       "      <th>ID_REF</th>\n",
       "      <th>cg02833180</th>\n",
       "      <th>cg02909790</th>\n",
       "      <th>cg03870261</th>\n",
       "      <th>cg04106785</th>\n",
       "      <th>cg07747299</th>\n",
       "      <th>cg15364618</th>\n",
       "      <th>cg15383120</th>\n",
       "      <th>cg15537850</th>\n",
       "      <th>cg15812957</th>\n",
       "      <th>cg16175725</th>\n",
       "      <th>cg16706631</th>\n",
       "      <th>cg17410236</th>\n",
       "      <th>cg24358465</th>\n",
       "    </tr>\n",
       "  </thead>\n",
       "  <tbody>\n",
       "    <tr>\n",
       "      <th>GSM813174</th>\n",
       "      <td>0.908716</td>\n",
       "      <td>0.067956</td>\n",
       "      <td>0.510289</td>\n",
       "      <td>0.666339</td>\n",
       "      <td>0.083275</td>\n",
       "      <td>0.197286</td>\n",
       "      <td>0.465914</td>\n",
       "      <td>0.384857</td>\n",
       "      <td>0.975377</td>\n",
       "      <td>0.937909</td>\n",
       "      <td>0.031523</td>\n",
       "      <td>0.080678</td>\n",
       "      <td>0.008289</td>\n",
       "    </tr>\n",
       "  </tbody>\n",
       "</table>\n",
       "</div>"
      ],
      "text/plain": [
       "ID_REF     cg02833180  cg02909790  cg03870261  cg04106785  cg07747299  \\\n",
       "GSM813174    0.908716    0.067956    0.510289    0.666339    0.083275   \n",
       "\n",
       "ID_REF     cg15364618  cg15383120  cg15537850  cg15812957  cg16175725  \\\n",
       "GSM813174    0.197286    0.465914    0.384857    0.975377    0.937909   \n",
       "\n",
       "ID_REF     cg16706631  cg17410236  cg24358465  \n",
       "GSM813174    0.031523    0.080678    0.008289  "
      ]
     },
     "execution_count": 79,
     "metadata": {},
     "output_type": "execute_result"
    }
   ],
   "source": [
    "import pandas as pd\n",
    "\n",
    "test = pd.DataFrame(columns=X_test_fs.columns)\n",
    "\n",
    "\n",
    "col_values = []\n",
    "for i in test.columns:\n",
    "    v = gse.gsms[query].table.loc[gse.gsms[query].table['ID_REF'] == i, 'VALUE']\n",
    "    v = v.values[0]\n",
    "    col_values.append(v)\n",
    "\n",
    "test.loc[query] = col_values\n",
    "\n",
    "test"
   ]
  },
  {
   "cell_type": "code",
   "execution_count": 80,
   "id": "7af19498",
   "metadata": {},
   "outputs": [
    {
     "data": {
      "text/plain": [
       "'Yes'"
      ]
     },
     "execution_count": 80,
     "metadata": {},
     "output_type": "execute_result"
    }
   ],
   "source": [
    "y_pred = RIPPER.predict(test)\n",
    "result[y_pred[0]]"
   ]
  },
  {
   "cell_type": "code",
   "execution_count": 81,
   "id": "fa632cb1",
   "metadata": {},
   "outputs": [],
   "source": [
    "prognosis_features = X_test_fs.columns"
   ]
  },
  {
   "cell_type": "code",
   "execution_count": 83,
   "id": "d732b04e",
   "metadata": {},
   "outputs": [],
   "source": [
    "with open('PFeatures', 'wb') as f:\n",
    "    pickle.dump((prognosis_features), f)"
   ]
  },
  {
   "cell_type": "code",
   "execution_count": null,
   "id": "c05dd900",
   "metadata": {},
   "outputs": [],
   "source": []
  }
 ],
 "metadata": {
  "kernelspec": {
   "display_name": "Python 3 (ipykernel)",
   "language": "python",
   "name": "python3"
  },
  "language_info": {
   "codemirror_mode": {
    "name": "ipython",
    "version": 3
   },
   "file_extension": ".py",
   "mimetype": "text/x-python",
   "name": "python",
   "nbconvert_exporter": "python",
   "pygments_lexer": "ipython3",
   "version": "3.9.13"
  }
 },
 "nbformat": 4,
 "nbformat_minor": 5
}
