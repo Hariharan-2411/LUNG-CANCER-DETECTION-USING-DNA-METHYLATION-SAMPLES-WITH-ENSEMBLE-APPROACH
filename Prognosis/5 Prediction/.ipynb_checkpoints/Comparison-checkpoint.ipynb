{
 "cells": [
  {
   "cell_type": "code",
   "execution_count": 38,
   "id": "580c86bc",
   "metadata": {},
   "outputs": [],
   "source": [
    "import pickle\n",
    "import joblib\n",
    "with open('Dependency/FeatureSelectedData.pkl', 'rb') as f:\n",
    "    X, y, Xtest, Ytest, X2, y2, Xtest2, Ytest2  = pickle.load(f)"
   ]
  },
  {
   "cell_type": "code",
   "execution_count": 22,
   "id": "9772e64b",
   "metadata": {},
   "outputs": [],
   "source": [
    "RIPPER_inv = joblib.load('Dependency/ripper_clf_invlasso.joblib')\n",
    "RIPPER_win = joblib.load('Dependency/ripper_clf_winlasso.joblib')\n",
    "RandomForest_inv = joblib.load('Dependency/RandomForest_clf_invlasso.joblib')\n",
    "RandomForest_win = joblib.load('Dependency/RandomForest_clf_winlasso.joblib')\n",
    "LogisticRegression_inv = joblib.load('Dependency/LogisticReg_clf_invlasso.joblib')\n",
    "LogisticRegression_win = joblib.load('Dependency/LogisticReg_clf_winlasso.joblib')\n",
    "KNeighbors_inv = joblib.load('Dependency/KNeighbors_clf_invlasso.joblib')\n",
    "KNeighbors_win = joblib.load('Dependency/KNeighbors_clf_winlasso.joblib')\n",
    "KernelSVM_inv = joblib.load('Dependency/KernelSVM_clf_invlasso.joblib')\n",
    "KernelSVM_win = joblib.load('Dependency/KernelSVM_clf_winlasso.joblib')\n",
    "ComplementNB_inv = joblib.load('Dependency/ComplementNB_clf_invlasso.joblib')\n",
    "ComplementNB_win = joblib.load('Dependency/ComplementNB_clf_winlasso.joblib')"
   ]
  },
  {
   "cell_type": "code",
   "execution_count": 24,
   "id": "7327da4b",
   "metadata": {},
   "outputs": [
    {
     "name": "stdout",
     "output_type": "stream",
     "text": [
      "Accuracy Results\n",
      "ALGORITHM\t(15 Features)\t(1307 Features)\n",
      "RIPPER\n",
      " 0.9285714285714286 \n",
      " 0.7714285714285715\n",
      "\n",
      "Random Forest\n",
      " 0.7714285714285715 \n",
      " 0.7571428571428571\n",
      "\n",
      "Logistic Regression\n",
      " 0.7142857142857143 \n",
      " 0.7428571428571429\n",
      "\n",
      "K Neighbors\n",
      " 0.6857142857142857 \n",
      " 0.6857142857142857\n",
      "\n",
      "Kernel SVM\n",
      " 0.7142857142857143 \n",
      " 0.7571428571428571\n",
      "\n",
      "Complement Naive Bayes\n",
      " 0.7857142857142857 \n",
      " 0.7428571428571429\n"
     ]
    }
   ],
   "source": [
    "from sklearn.metrics import accuracy_score\n",
    "print(\"Accuracy Results\")\n",
    "print(\"ALGORITHM\\t(15 Features)\\t(1307 Features)\")\n",
    "print(\"RIPPER\\n\",RIPPER_inv.score(Xtest, Ytest),\"\\n\",RIPPER_win.score(Xtest2, Ytest2))\n",
    "print(\"\\nRandom Forest\\n\",RandomForest_inv.score(Xtest, Ytest),\"\\n\",RandomForest_win.score(Xtest2, Ytest2))\n",
    "print(\"\\nLogistic Regression\\n\",accuracy_score(Ytest, LogisticRegression_inv.predict(Xtest)),\"\\n\",accuracy_score(Ytest2, LogisticRegression_win.predict(Xtest2)))\n",
    "print(\"\\nK Neighbors\\n\",accuracy_score(Ytest, KNeighbors_inv.predict(Xtest)),\"\\n\",accuracy_score(Ytest2, KNeighbors_win.predict(Xtest2)))\n",
    "print(\"\\nKernel SVM\\n\",accuracy_score(Ytest, KernelSVM_inv.predict(Xtest)),\"\\n\",accuracy_score(Ytest2, KernelSVM_win.predict(Xtest2)))\n",
    "print(\"\\nComplement Naive Bayes\\n\",accuracy_score(Ytest, ComplementNB_inv.predict(Xtest)),\"\\n\",accuracy_score(Ytest2, ComplementNB_win.predict(Xtest2)))\n"
   ]
  },
  {
   "cell_type": "code",
   "execution_count": 49,
   "id": "7d579846",
   "metadata": {},
   "outputs": [
    {
     "name": "stdout",
     "output_type": "stream",
     "text": [
      "Accuracy: 0.8571428571428571\n",
      "Do you want to continue ? [Y/N] : Y\n",
      "Accuracy: 0.9428571428571428\n",
      "Do you want to continue ? [Y/N] : N\n",
      "Final Accuracy: 0.9428571428571428\n"
     ]
    }
   ],
   "source": [
    "from sklearn.ensemble import VotingClassifier\n",
    "# define the voting classifier\n",
    "ensemble_clf = VotingClassifier(estimators=[('rip_inv', RIPPER_inv), ('rip_win', RIPPER_win)], voting='soft')\n",
    "\n",
    "# fit the ensemble classifier on the training data\n",
    "ensemble_clf.fit(X, y)\n",
    "\n",
    "# evaluate the ensemble classifier on the test data\n",
    "accuracy = ensemble_clf.score(Xtest, Ytest)\n",
    "prev = 0\n",
    "print(\"Accuracy:\", accuracy)\n",
    "yes=input(\"Do you want to continue ? [Y/N] : \")\n",
    "i = 0\n",
    "while (yes==\"Y\"):\n",
    "    ensemble_clf.fit(X, y)\n",
    "    accuracy = ensemble_clf.score(Xtest, Ytest)\n",
    "    if (accuracy > 0.9 and accuracy > prev):\n",
    "        print(\"Accuracy:\", accuracy)\n",
    "        prev = accuracy\n",
    "        joblib.dump(ensemble_clf, 'Ensemble{}.joblib'.format(i))\n",
    "        i = i + 1\n",
    "        yes=input(\"Do you want to continue ? [Y/N] : \")\n",
    "    \n",
    "\n",
    "\n",
    "print(\"Final Accuracy:\", accuracy)\n"
   ]
  },
  {
   "cell_type": "code",
   "execution_count": 51,
   "id": "d57b1b6f",
   "metadata": {},
   "outputs": [],
   "source": [
    "\n",
    "\n",
    "ens = joblib.load('Ensemble0.joblib')"
   ]
  },
  {
   "cell_type": "code",
   "execution_count": 53,
   "id": "1c706737",
   "metadata": {},
   "outputs": [
    {
     "data": {
      "text/plain": [
       "0.9428571428571428"
      ]
     },
     "execution_count": 53,
     "metadata": {},
     "output_type": "execute_result"
    }
   ],
   "source": [
    "ens.score(Xtest,Ytest)"
   ]
  },
  {
   "cell_type": "code",
   "execution_count": null,
   "id": "a8d95161",
   "metadata": {},
   "outputs": [],
   "source": []
  }
 ],
 "metadata": {
  "kernelspec": {
   "display_name": "Python 3 (ipykernel)",
   "language": "python",
   "name": "python3"
  },
  "language_info": {
   "codemirror_mode": {
    "name": "ipython",
    "version": 3
   },
   "file_extension": ".py",
   "mimetype": "text/x-python",
   "name": "python",
   "nbconvert_exporter": "python",
   "pygments_lexer": "ipython3",
   "version": "3.9.13"
  }
 },
 "nbformat": 4,
 "nbformat_minor": 5
}
