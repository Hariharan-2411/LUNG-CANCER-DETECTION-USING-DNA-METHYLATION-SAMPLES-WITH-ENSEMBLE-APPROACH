{
 "cells": [
  {
   "cell_type": "code",
   "execution_count": 1,
   "id": "580c86bc",
   "metadata": {},
   "outputs": [],
   "source": [
    "import pickle\n",
    "import joblib\n",
    "with open('Dependency/FeatureSelectedData.pkl', 'rb') as f:\n",
    "    X_train_fs, y_train, X_test_fs, y_test  = pickle.load(f)"
   ]
  },
  {
   "cell_type": "code",
   "execution_count": 2,
   "id": "9772e64b",
   "metadata": {},
   "outputs": [],
   "source": [
    "RIPPER = joblib.load('Dependency/R_Prognosis.joblib')\n",
    "RandomForest = joblib.load('Dependency/RandomForest.joblib')\n",
    "LogisticRegression = joblib.load('Dependency/LogisticReg.joblib')\n",
    "KNeighbors = joblib.load('Dependency/KNeighbors.joblib')\n",
    "KernelSVM = joblib.load('Dependency/KernelSVM.joblib')\n",
    "ComplementNB = joblib.load('Dependency/ComplementNB.joblib')"
   ]
  },
  {
   "cell_type": "code",
   "execution_count": 5,
   "id": "7327da4b",
   "metadata": {},
   "outputs": [
    {
     "name": "stdout",
     "output_type": "stream",
     "text": [
      "Accuracy Results\n",
      "ALGORITHM\n",
      "RIPPER\n",
      " 0.7741935483870968\n",
      "\n",
      "Random Forest\n",
      " 0.5483870967741935\n",
      "\n",
      "Logistic Regression\n",
      " 0.6129032258064516\n",
      "\n",
      "K Neighbors\n",
      " 0.5806451612903226\n",
      "\n",
      "Kernel SVM\n",
      " 0.5161290322580645\n",
      "\n",
      "Complement Naive Bayes\n",
      " 0.5483870967741935\n"
     ]
    }
   ],
   "source": [
    "from sklearn.metrics import accuracy_score\n",
    "print(\"Accuracy Results\")\n",
    "print(\"ALGORITHM\")\n",
    "print(\"RIPPER\\n\",RIPPER.score(X_test_fs, y_test))\n",
    "print(\"\\nRandom Forest\\n\",RandomForest.score(X_test_fs,y_test))\n",
    "print(\"\\nLogistic Regression\\n\",accuracy_score(y_test, LogisticRegression.predict(X_test_fs)))\n",
    "print(\"\\nK Neighbors\\n\",accuracy_score(y_test, KNeighbors.predict(X_test_fs)))\n",
    "print(\"\\nKernel SVM\\n\",accuracy_score(y_test, KernelSVM.predict(X_test_fs)))\n",
    "print(\"\\nComplement Naive Bayes\\n\",accuracy_score(y_test, ComplementNB.predict(X_test_fs)))"
   ]
  }
 ],
 "metadata": {
  "kernelspec": {
   "display_name": "Python 3 (ipykernel)",
   "language": "python",
   "name": "python3"
  },
  "language_info": {
   "codemirror_mode": {
    "name": "ipython",
    "version": 3
   },
   "file_extension": ".py",
   "mimetype": "text/x-python",
   "name": "python",
   "nbconvert_exporter": "python",
   "pygments_lexer": "ipython3",
   "version": "3.9.13"
  }
 },
 "nbformat": 4,
 "nbformat_minor": 5
}
